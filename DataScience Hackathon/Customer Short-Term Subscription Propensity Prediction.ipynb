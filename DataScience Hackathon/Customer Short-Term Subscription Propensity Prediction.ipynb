{
 "cells": [
  {
   "cell_type": "code",
   "execution_count": 1,
   "metadata": {
    "_cell_guid": "b1076dfc-b9ad-4769-8c92-a6c4dae69d19",
    "_uuid": "8f2839f25d086af736a60e9eeb907d3b93b6e0e5",
    "execution": {
     "iopub.execute_input": "2024-04-13T15:53:54.583369Z",
     "iopub.status.busy": "2024-04-13T15:53:54.583037Z",
     "iopub.status.idle": "2024-04-13T15:53:55.454528Z",
     "shell.execute_reply": "2024-04-13T15:53:55.453752Z",
     "shell.execute_reply.started": "2024-04-13T15:53:54.583342Z"
    }
   },
   "outputs": [],
   "source": [
    "import pandas as pd"
   ]
  },
  {
   "cell_type": "code",
   "execution_count": 2,
   "metadata": {
    "execution": {
     "iopub.execute_input": "2024-04-13T15:53:55.456286Z",
     "iopub.status.busy": "2024-04-13T15:53:55.455924Z",
     "iopub.status.idle": "2024-04-13T15:54:53.987290Z",
     "shell.execute_reply": "2024-04-13T15:54:53.986317Z",
     "shell.execute_reply.started": "2024-04-13T15:53:55.456262Z"
    }
   },
   "outputs": [],
   "source": [
    "df=pd.read_excel('/kaggle/input/customer-ott-subs-data/Customer_dataset_OTT_subcription.xlsx')"
   ]
  },
  {
   "cell_type": "code",
   "execution_count": 3,
   "metadata": {
    "execution": {
     "iopub.execute_input": "2024-04-13T15:54:53.988787Z",
     "iopub.status.busy": "2024-04-13T15:54:53.988435Z",
     "iopub.status.idle": "2024-04-13T15:54:54.046651Z",
     "shell.execute_reply": "2024-04-13T15:54:54.045586Z",
     "shell.execute_reply.started": "2024-04-13T15:54:53.988764Z"
    }
   },
   "outputs": [
    {
     "data": {
      "text/html": [
       "<div>\n",
       "<style scoped>\n",
       "    .dataframe tbody tr th:only-of-type {\n",
       "        vertical-align: middle;\n",
       "    }\n",
       "\n",
       "    .dataframe tbody tr th {\n",
       "        vertical-align: top;\n",
       "    }\n",
       "\n",
       "    .dataframe thead th {\n",
       "        text-align: right;\n",
       "    }\n",
       "</style>\n",
       "<table border=\"1\" class=\"dataframe\">\n",
       "  <thead>\n",
       "    <tr style=\"text-align: right;\">\n",
       "      <th></th>\n",
       "      <th>Customer_ID</th>\n",
       "      <th>Month</th>\n",
       "      <th>Customer_Tier_Dynamic</th>\n",
       "      <th>Gender</th>\n",
       "      <th>Age</th>\n",
       "      <th>web_engagement_count</th>\n",
       "      <th>Pop_ups_count</th>\n",
       "      <th>eshop_vouchers_engagement_count</th>\n",
       "      <th>offer_engagement_count</th>\n",
       "      <th>Trailer_Attendance_Count</th>\n",
       "      <th>...</th>\n",
       "      <th>Campaign_emails_opened</th>\n",
       "      <th>Campaign_emails_clicks</th>\n",
       "      <th>Occupation</th>\n",
       "      <th>ott_web_mouse_hovers</th>\n",
       "      <th>ott_enews_mouse_hovers</th>\n",
       "      <th>ott_mouse_mouse_hovers</th>\n",
       "      <th>unpaidsearch_clicks</th>\n",
       "      <th>paidsearch_clicks</th>\n",
       "      <th>Subscribed_Others</th>\n",
       "      <th>Status_Subscribed</th>\n",
       "    </tr>\n",
       "  </thead>\n",
       "  <tbody>\n",
       "    <tr>\n",
       "      <th>0</th>\n",
       "      <td>CU1X100932</td>\n",
       "      <td>Jan'2020</td>\n",
       "      <td>_nan_</td>\n",
       "      <td>Female</td>\n",
       "      <td>80.0</td>\n",
       "      <td>4</td>\n",
       "      <td>0</td>\n",
       "      <td>0</td>\n",
       "      <td>0</td>\n",
       "      <td>0</td>\n",
       "      <td>...</td>\n",
       "      <td>0</td>\n",
       "      <td>0</td>\n",
       "      <td>Active Entrepreneur</td>\n",
       "      <td>0</td>\n",
       "      <td>0</td>\n",
       "      <td>0</td>\n",
       "      <td>UP_Clicked</td>\n",
       "      <td>PS_Clicked</td>\n",
       "      <td>0</td>\n",
       "      <td>Not Subscribed</td>\n",
       "    </tr>\n",
       "    <tr>\n",
       "      <th>1</th>\n",
       "      <td>CU1X100932</td>\n",
       "      <td>Feb'2020</td>\n",
       "      <td>_nan_</td>\n",
       "      <td>Female</td>\n",
       "      <td>80.0</td>\n",
       "      <td>1</td>\n",
       "      <td>0</td>\n",
       "      <td>2</td>\n",
       "      <td>1</td>\n",
       "      <td>2</td>\n",
       "      <td>...</td>\n",
       "      <td>4</td>\n",
       "      <td>0</td>\n",
       "      <td>Active Entrepreneur</td>\n",
       "      <td>1</td>\n",
       "      <td>0</td>\n",
       "      <td>0</td>\n",
       "      <td>UP_Clicked</td>\n",
       "      <td>PS_Clicked</td>\n",
       "      <td>1</td>\n",
       "      <td>Not Subscribed</td>\n",
       "    </tr>\n",
       "    <tr>\n",
       "      <th>2</th>\n",
       "      <td>CU1X100932</td>\n",
       "      <td>March'2020</td>\n",
       "      <td>_nan_</td>\n",
       "      <td>Female</td>\n",
       "      <td>80.0</td>\n",
       "      <td>2</td>\n",
       "      <td>2</td>\n",
       "      <td>0</td>\n",
       "      <td>0</td>\n",
       "      <td>1</td>\n",
       "      <td>...</td>\n",
       "      <td>4</td>\n",
       "      <td>0</td>\n",
       "      <td>Active Entrepreneur</td>\n",
       "      <td>1</td>\n",
       "      <td>2</td>\n",
       "      <td>1</td>\n",
       "      <td>UP_Clicked</td>\n",
       "      <td>PS_Clicked</td>\n",
       "      <td>1</td>\n",
       "      <td>Not Subscribed</td>\n",
       "    </tr>\n",
       "    <tr>\n",
       "      <th>3</th>\n",
       "      <td>CU1X100932</td>\n",
       "      <td>April'2020</td>\n",
       "      <td>_nan_</td>\n",
       "      <td>Female</td>\n",
       "      <td>80.0</td>\n",
       "      <td>0</td>\n",
       "      <td>2</td>\n",
       "      <td>2</td>\n",
       "      <td>0</td>\n",
       "      <td>0</td>\n",
       "      <td>...</td>\n",
       "      <td>3</td>\n",
       "      <td>0</td>\n",
       "      <td>Active Entrepreneur</td>\n",
       "      <td>4</td>\n",
       "      <td>1</td>\n",
       "      <td>3</td>\n",
       "      <td>UP_Clicked</td>\n",
       "      <td>PS_Clicked</td>\n",
       "      <td>1</td>\n",
       "      <td>Not Subscribed</td>\n",
       "    </tr>\n",
       "    <tr>\n",
       "      <th>4</th>\n",
       "      <td>CU1X100932</td>\n",
       "      <td>May'2020</td>\n",
       "      <td>_nan_</td>\n",
       "      <td>Female</td>\n",
       "      <td>80.0</td>\n",
       "      <td>3</td>\n",
       "      <td>0</td>\n",
       "      <td>0</td>\n",
       "      <td>2</td>\n",
       "      <td>1</td>\n",
       "      <td>...</td>\n",
       "      <td>4</td>\n",
       "      <td>0</td>\n",
       "      <td>Active Entrepreneur</td>\n",
       "      <td>2</td>\n",
       "      <td>2</td>\n",
       "      <td>1</td>\n",
       "      <td>UP_Clicked</td>\n",
       "      <td>PS_Clicked</td>\n",
       "      <td>1</td>\n",
       "      <td>Not Subscribed</td>\n",
       "    </tr>\n",
       "  </tbody>\n",
       "</table>\n",
       "<p>5 rows × 25 columns</p>\n",
       "</div>"
      ],
      "text/plain": [
       "  Customer_ID       Month Customer_Tier_Dynamic  Gender   Age  \\\n",
       "0  CU1X100932    Jan'2020                 _nan_  Female  80.0   \n",
       "1  CU1X100932    Feb'2020                 _nan_  Female  80.0   \n",
       "2  CU1X100932  March'2020                 _nan_  Female  80.0   \n",
       "3  CU1X100932  April'2020                 _nan_  Female  80.0   \n",
       "4  CU1X100932    May'2020                 _nan_  Female  80.0   \n",
       "\n",
       "   web_engagement_count  Pop_ups_count  eshop_vouchers_engagement_count  \\\n",
       "0                     4              0                                0   \n",
       "1                     1              0                                2   \n",
       "2                     2              2                                0   \n",
       "3                     0              2                                2   \n",
       "4                     3              0                                0   \n",
       "\n",
       "   offer_engagement_count  Trailer_Attendance_Count  ...  \\\n",
       "0                       0                         0  ...   \n",
       "1                       1                         2  ...   \n",
       "2                       0                         1  ...   \n",
       "3                       0                         0  ...   \n",
       "4                       2                         1  ...   \n",
       "\n",
       "   Campaign_emails_opened  Campaign_emails_clicks            Occupation  \\\n",
       "0                       0                       0   Active Entrepreneur   \n",
       "1                       4                       0   Active Entrepreneur   \n",
       "2                       4                       0   Active Entrepreneur   \n",
       "3                       3                       0   Active Entrepreneur   \n",
       "4                       4                       0   Active Entrepreneur   \n",
       "\n",
       "   ott_web_mouse_hovers  ott_enews_mouse_hovers  ott_mouse_mouse_hovers  \\\n",
       "0                     0                       0                       0   \n",
       "1                     1                       0                       0   \n",
       "2                     1                       2                       1   \n",
       "3                     4                       1                       3   \n",
       "4                     2                       2                       1   \n",
       "\n",
       "   unpaidsearch_clicks paidsearch_clicks  Subscribed_Others  Status_Subscribed  \n",
       "0           UP_Clicked        PS_Clicked                  0     Not Subscribed  \n",
       "1           UP_Clicked        PS_Clicked                  1     Not Subscribed  \n",
       "2           UP_Clicked        PS_Clicked                  1     Not Subscribed  \n",
       "3           UP_Clicked        PS_Clicked                  1     Not Subscribed  \n",
       "4           UP_Clicked        PS_Clicked                  1     Not Subscribed  \n",
       "\n",
       "[5 rows x 25 columns]"
      ]
     },
     "execution_count": 3,
     "metadata": {},
     "output_type": "execute_result"
    }
   ],
   "source": [
    "df.head()"
   ]
  },
  {
   "cell_type": "code",
   "execution_count": 4,
   "metadata": {
    "execution": {
     "iopub.execute_input": "2024-04-13T15:54:54.049678Z",
     "iopub.status.busy": "2024-04-13T15:54:54.049337Z",
     "iopub.status.idle": "2024-04-13T15:54:54.180776Z",
     "shell.execute_reply": "2024-04-13T15:54:54.179662Z",
     "shell.execute_reply.started": "2024-04-13T15:54:54.049648Z"
    }
   },
   "outputs": [
    {
     "name": "stdout",
     "output_type": "stream",
     "text": [
      "<class 'pandas.core.frame.DataFrame'>\n",
      "RangeIndex: 126000 entries, 0 to 125999\n",
      "Data columns (total 25 columns):\n",
      " #   Column                           Non-Null Count   Dtype  \n",
      "---  ------                           --------------   -----  \n",
      " 0   Customer_ID                      126000 non-null  object \n",
      " 1   Month                            126000 non-null  object \n",
      " 2   Customer_Tier_Dynamic            126000 non-null  object \n",
      " 3   Gender                           126000 non-null  object \n",
      " 4   Age                              125928 non-null  float64\n",
      " 5   web_engagement_count             126000 non-null  int64  \n",
      " 6   Pop_ups_count                    126000 non-null  int64  \n",
      " 7   eshop_vouchers_engagement_count  126000 non-null  int64  \n",
      " 8   offer_engagement_count           126000 non-null  int64  \n",
      " 9   Trailer_Attendance_Count         126000 non-null  int64  \n",
      " 10  total_related_ott_searches1      126000 non-null  int64  \n",
      " 11  total_related_ott_searches2      126000 non-null  int64  \n",
      " 12  total_related_ott_searches3      126000 non-null  int64  \n",
      " 13  Geo_PinCode                      126000 non-null  int64  \n",
      " 14  Campaign_emails_Sent             126000 non-null  int64  \n",
      " 15  Campaign_emails_opened           126000 non-null  int64  \n",
      " 16  Campaign_emails_clicks           126000 non-null  int64  \n",
      " 17  Occupation                       126000 non-null  object \n",
      " 18  ott_web_mouse_hovers             126000 non-null  int64  \n",
      " 19  ott_enews_mouse_hovers           126000 non-null  int64  \n",
      " 20  ott_mouse_mouse_hovers           126000 non-null  int64  \n",
      " 21  unpaidsearch_clicks              126000 non-null  object \n",
      " 22  paidsearch_clicks                126000 non-null  object \n",
      " 23  Subscribed_Others                126000 non-null  int64  \n",
      " 24  Status_Subscribed                126000 non-null  object \n",
      "dtypes: float64(1), int64(16), object(8)\n",
      "memory usage: 24.0+ MB\n"
     ]
    }
   ],
   "source": [
    "df.info()"
   ]
  },
  {
   "cell_type": "code",
   "execution_count": 5,
   "metadata": {
    "execution": {
     "iopub.execute_input": "2024-04-13T15:54:54.182293Z",
     "iopub.status.busy": "2024-04-13T15:54:54.182001Z",
     "iopub.status.idle": "2024-04-13T15:54:54.208166Z",
     "shell.execute_reply": "2024-04-13T15:54:54.207344Z",
     "shell.execute_reply.started": "2024-04-13T15:54:54.182267Z"
    }
   },
   "outputs": [
    {
     "data": {
      "text/html": [
       "<div>\n",
       "<style scoped>\n",
       "    .dataframe tbody tr th:only-of-type {\n",
       "        vertical-align: middle;\n",
       "    }\n",
       "\n",
       "    .dataframe tbody tr th {\n",
       "        vertical-align: top;\n",
       "    }\n",
       "\n",
       "    .dataframe thead th {\n",
       "        text-align: right;\n",
       "    }\n",
       "</style>\n",
       "<table border=\"1\" class=\"dataframe\">\n",
       "  <thead>\n",
       "    <tr style=\"text-align: right;\">\n",
       "      <th></th>\n",
       "      <th>Customer_ID</th>\n",
       "      <th>Month</th>\n",
       "      <th>Customer_Tier_Dynamic</th>\n",
       "      <th>Gender</th>\n",
       "      <th>Age</th>\n",
       "      <th>web_engagement_count</th>\n",
       "      <th>Pop_ups_count</th>\n",
       "      <th>eshop_vouchers_engagement_count</th>\n",
       "      <th>offer_engagement_count</th>\n",
       "      <th>Trailer_Attendance_Count</th>\n",
       "      <th>...</th>\n",
       "      <th>Campaign_emails_opened</th>\n",
       "      <th>Campaign_emails_clicks</th>\n",
       "      <th>Occupation</th>\n",
       "      <th>ott_web_mouse_hovers</th>\n",
       "      <th>ott_enews_mouse_hovers</th>\n",
       "      <th>ott_mouse_mouse_hovers</th>\n",
       "      <th>unpaidsearch_clicks</th>\n",
       "      <th>paidsearch_clicks</th>\n",
       "      <th>Subscribed_Others</th>\n",
       "      <th>Status_Subscribed</th>\n",
       "    </tr>\n",
       "  </thead>\n",
       "  <tbody>\n",
       "    <tr>\n",
       "      <th>120923</th>\n",
       "      <td>CU1X111277</td>\n",
       "      <td>December'2020</td>\n",
       "      <td>M</td>\n",
       "      <td>Male</td>\n",
       "      <td>59.0</td>\n",
       "      <td>4</td>\n",
       "      <td>0</td>\n",
       "      <td>0</td>\n",
       "      <td>0</td>\n",
       "      <td>0</td>\n",
       "      <td>...</td>\n",
       "      <td>21</td>\n",
       "      <td>4</td>\n",
       "      <td>Unemployed</td>\n",
       "      <td>4</td>\n",
       "      <td>0</td>\n",
       "      <td>0</td>\n",
       "      <td>UP_Clicked</td>\n",
       "      <td>PS_Clicked</td>\n",
       "      <td>1</td>\n",
       "      <td>Not Subscribed</td>\n",
       "    </tr>\n",
       "    <tr>\n",
       "      <th>7862</th>\n",
       "      <td>CU1X101856</td>\n",
       "      <td>March'2020</td>\n",
       "      <td>_nan_</td>\n",
       "      <td>Female</td>\n",
       "      <td>74.0</td>\n",
       "      <td>6</td>\n",
       "      <td>0</td>\n",
       "      <td>0</td>\n",
       "      <td>0</td>\n",
       "      <td>1</td>\n",
       "      <td>...</td>\n",
       "      <td>21</td>\n",
       "      <td>4</td>\n",
       "      <td>Active Entrepreneur</td>\n",
       "      <td>0</td>\n",
       "      <td>0</td>\n",
       "      <td>0</td>\n",
       "      <td>UP_Clicked</td>\n",
       "      <td>PS_Clicked</td>\n",
       "      <td>1</td>\n",
       "      <td>Not Subscribed</td>\n",
       "    </tr>\n",
       "    <tr>\n",
       "      <th>104538</th>\n",
       "      <td>CU1X109912</td>\n",
       "      <td>July'2020</td>\n",
       "      <td>_nan_</td>\n",
       "      <td>Male</td>\n",
       "      <td>40.0</td>\n",
       "      <td>0</td>\n",
       "      <td>0</td>\n",
       "      <td>0</td>\n",
       "      <td>0</td>\n",
       "      <td>0</td>\n",
       "      <td>...</td>\n",
       "      <td>4</td>\n",
       "      <td>0</td>\n",
       "      <td>Unknown</td>\n",
       "      <td>3</td>\n",
       "      <td>1</td>\n",
       "      <td>2</td>\n",
       "      <td>UP_Clicked</td>\n",
       "      <td>PS_Clicked</td>\n",
       "      <td>1</td>\n",
       "      <td>Not Subscribed</td>\n",
       "    </tr>\n",
       "    <tr>\n",
       "      <th>69314</th>\n",
       "      <td>CU1X106977</td>\n",
       "      <td>March'2020</td>\n",
       "      <td>_nan_</td>\n",
       "      <td>Male</td>\n",
       "      <td>55.0</td>\n",
       "      <td>10</td>\n",
       "      <td>0</td>\n",
       "      <td>0</td>\n",
       "      <td>0</td>\n",
       "      <td>0</td>\n",
       "      <td>...</td>\n",
       "      <td>6</td>\n",
       "      <td>1</td>\n",
       "      <td>Unknown</td>\n",
       "      <td>0</td>\n",
       "      <td>0</td>\n",
       "      <td>0</td>\n",
       "      <td>UP_Clicked</td>\n",
       "      <td>PS_Clicked</td>\n",
       "      <td>1</td>\n",
       "      <td>Subscribed</td>\n",
       "    </tr>\n",
       "    <tr>\n",
       "      <th>85346</th>\n",
       "      <td>CU1X108313</td>\n",
       "      <td>March'2020</td>\n",
       "      <td>_nan_</td>\n",
       "      <td>Female</td>\n",
       "      <td>80.0</td>\n",
       "      <td>0</td>\n",
       "      <td>0</td>\n",
       "      <td>0</td>\n",
       "      <td>0</td>\n",
       "      <td>0</td>\n",
       "      <td>...</td>\n",
       "      <td>0</td>\n",
       "      <td>0</td>\n",
       "      <td>Retired</td>\n",
       "      <td>0</td>\n",
       "      <td>0</td>\n",
       "      <td>0</td>\n",
       "      <td>UP_Not Clicked</td>\n",
       "      <td>PS_Clicked</td>\n",
       "      <td>1</td>\n",
       "      <td>Not Subscribed</td>\n",
       "    </tr>\n",
       "  </tbody>\n",
       "</table>\n",
       "<p>5 rows × 25 columns</p>\n",
       "</div>"
      ],
      "text/plain": [
       "       Customer_ID          Month Customer_Tier_Dynamic  Gender   Age  \\\n",
       "120923  CU1X111277  December'2020                     M    Male  59.0   \n",
       "7862    CU1X101856     March'2020                 _nan_  Female  74.0   \n",
       "104538  CU1X109912      July'2020                 _nan_    Male  40.0   \n",
       "69314   CU1X106977     March'2020                 _nan_    Male  55.0   \n",
       "85346   CU1X108313     March'2020                 _nan_  Female  80.0   \n",
       "\n",
       "        web_engagement_count  Pop_ups_count  eshop_vouchers_engagement_count  \\\n",
       "120923                     4              0                                0   \n",
       "7862                       6              0                                0   \n",
       "104538                     0              0                                0   \n",
       "69314                     10              0                                0   \n",
       "85346                      0              0                                0   \n",
       "\n",
       "        offer_engagement_count  Trailer_Attendance_Count  ...  \\\n",
       "120923                       0                         0  ...   \n",
       "7862                         0                         1  ...   \n",
       "104538                       0                         0  ...   \n",
       "69314                        0                         0  ...   \n",
       "85346                        0                         0  ...   \n",
       "\n",
       "        Campaign_emails_opened  Campaign_emails_clicks            Occupation  \\\n",
       "120923                      21                       4            Unemployed   \n",
       "7862                        21                       4   Active Entrepreneur   \n",
       "104538                       4                       0               Unknown   \n",
       "69314                        6                       1               Unknown   \n",
       "85346                        0                       0               Retired   \n",
       "\n",
       "        ott_web_mouse_hovers  ott_enews_mouse_hovers  ott_mouse_mouse_hovers  \\\n",
       "120923                     4                       0                       0   \n",
       "7862                       0                       0                       0   \n",
       "104538                     3                       1                       2   \n",
       "69314                      0                       0                       0   \n",
       "85346                      0                       0                       0   \n",
       "\n",
       "        unpaidsearch_clicks paidsearch_clicks  Subscribed_Others  \\\n",
       "120923           UP_Clicked        PS_Clicked                  1   \n",
       "7862             UP_Clicked        PS_Clicked                  1   \n",
       "104538           UP_Clicked        PS_Clicked                  1   \n",
       "69314            UP_Clicked        PS_Clicked                  1   \n",
       "85346        UP_Not Clicked        PS_Clicked                  1   \n",
       "\n",
       "        Status_Subscribed  \n",
       "120923     Not Subscribed  \n",
       "7862       Not Subscribed  \n",
       "104538     Not Subscribed  \n",
       "69314          Subscribed  \n",
       "85346      Not Subscribed  \n",
       "\n",
       "[5 rows x 25 columns]"
      ]
     },
     "execution_count": 5,
     "metadata": {},
     "output_type": "execute_result"
    }
   ],
   "source": [
    "df.sample(5)"
   ]
  },
  {
   "cell_type": "code",
   "execution_count": 6,
   "metadata": {
    "execution": {
     "iopub.execute_input": "2024-04-13T15:54:54.209439Z",
     "iopub.status.busy": "2024-04-13T15:54:54.209153Z",
     "iopub.status.idle": "2024-04-13T15:54:54.229359Z",
     "shell.execute_reply": "2024-04-13T15:54:54.228371Z",
     "shell.execute_reply.started": "2024-04-13T15:54:54.209416Z"
    }
   },
   "outputs": [
    {
     "data": {
      "text/plain": [
       "10500"
      ]
     },
     "execution_count": 6,
     "metadata": {},
     "output_type": "execute_result"
    }
   ],
   "source": [
    "df.Customer_ID.nunique()"
   ]
  },
  {
   "cell_type": "code",
   "execution_count": 7,
   "metadata": {
    "execution": {
     "iopub.execute_input": "2024-04-13T15:54:54.230871Z",
     "iopub.status.busy": "2024-04-13T15:54:54.230614Z",
     "iopub.status.idle": "2024-04-13T15:54:54.246363Z",
     "shell.execute_reply": "2024-04-13T15:54:54.245348Z",
     "shell.execute_reply.started": "2024-04-13T15:54:54.230849Z"
    }
   },
   "outputs": [
    {
     "data": {
      "text/plain": [
       "array([' Active Entrepreneur', ' Retired + Passive Entrepreneur',\n",
       "       'Unknown', 'Self Employed', ' Orange Collar Salaried Employee',\n",
       "       ' Blue Collar Salaried Employee', ' Unemployed', ' Retired'],\n",
       "      dtype=object)"
      ]
     },
     "execution_count": 7,
     "metadata": {},
     "output_type": "execute_result"
    }
   ],
   "source": [
    "df.Occupation.unique()"
   ]
  },
  {
   "cell_type": "code",
   "execution_count": 8,
   "metadata": {
    "execution": {
     "iopub.execute_input": "2024-04-13T15:54:54.247695Z",
     "iopub.status.busy": "2024-04-13T15:54:54.247444Z",
     "iopub.status.idle": "2024-04-13T15:54:54.255809Z",
     "shell.execute_reply": "2024-04-13T15:54:54.255089Z",
     "shell.execute_reply.started": "2024-04-13T15:54:54.247673Z"
    }
   },
   "outputs": [
    {
     "data": {
      "text/plain": [
       "7794"
      ]
     },
     "execution_count": 8,
     "metadata": {},
     "output_type": "execute_result"
    }
   ],
   "source": [
    "df.Geo_PinCode.nunique()"
   ]
  },
  {
   "cell_type": "code",
   "execution_count": 9,
   "metadata": {
    "execution": {
     "iopub.execute_input": "2024-04-13T15:54:54.257516Z",
     "iopub.status.busy": "2024-04-13T15:54:54.257165Z",
     "iopub.status.idle": "2024-04-13T15:54:54.359111Z",
     "shell.execute_reply": "2024-04-13T15:54:54.358195Z",
     "shell.execute_reply.started": "2024-04-13T15:54:54.257484Z"
    }
   },
   "outputs": [
    {
     "data": {
      "text/plain": [
       "Customer_ID                         0\n",
       "Month                               0\n",
       "Customer_Tier_Dynamic               0\n",
       "Gender                              0\n",
       "Age                                72\n",
       "web_engagement_count                0\n",
       "Pop_ups_count                       0\n",
       "eshop_vouchers_engagement_count     0\n",
       "offer_engagement_count              0\n",
       "Trailer_Attendance_Count            0\n",
       "total_related_ott_searches1         0\n",
       "total_related_ott_searches2         0\n",
       "total_related_ott_searches3         0\n",
       "Geo_PinCode                         0\n",
       "Campaign_emails_Sent                0\n",
       "Campaign_emails_opened              0\n",
       "Campaign_emails_clicks              0\n",
       "Occupation                          0\n",
       "ott_web_mouse_hovers                0\n",
       "ott_enews_mouse_hovers              0\n",
       "ott_mouse_mouse_hovers              0\n",
       "unpaidsearch_clicks                 0\n",
       "paidsearch_clicks                   0\n",
       "Subscribed_Others                   0\n",
       "Status_Subscribed                   0\n",
       "dtype: int64"
      ]
     },
     "execution_count": 9,
     "metadata": {},
     "output_type": "execute_result"
    }
   ],
   "source": [
    "df.isnull().sum()"
   ]
  },
  {
   "cell_type": "code",
   "execution_count": 10,
   "metadata": {
    "execution": {
     "iopub.execute_input": "2024-04-13T15:54:54.363694Z",
     "iopub.status.busy": "2024-04-13T15:54:54.363371Z",
     "iopub.status.idle": "2024-04-13T15:54:54.504807Z",
     "shell.execute_reply": "2024-04-13T15:54:54.503825Z",
     "shell.execute_reply.started": "2024-04-13T15:54:54.363667Z"
    }
   },
   "outputs": [],
   "source": [
    "df.replace('_nan_', pd.NA, inplace=True)"
   ]
  },
  {
   "cell_type": "code",
   "execution_count": 11,
   "metadata": {
    "execution": {
     "iopub.execute_input": "2024-04-13T15:54:54.506416Z",
     "iopub.status.busy": "2024-04-13T15:54:54.506076Z",
     "iopub.status.idle": "2024-04-13T15:54:54.601420Z",
     "shell.execute_reply": "2024-04-13T15:54:54.600444Z",
     "shell.execute_reply.started": "2024-04-13T15:54:54.506386Z"
    }
   },
   "outputs": [
    {
     "data": {
      "text/plain": [
       "Customer_ID                            0\n",
       "Month                                  0\n",
       "Customer_Tier_Dynamic              64513\n",
       "Gender                                 0\n",
       "Age                                   72\n",
       "web_engagement_count                   0\n",
       "Pop_ups_count                          0\n",
       "eshop_vouchers_engagement_count        0\n",
       "offer_engagement_count                 0\n",
       "Trailer_Attendance_Count               0\n",
       "total_related_ott_searches1            0\n",
       "total_related_ott_searches2            0\n",
       "total_related_ott_searches3            0\n",
       "Geo_PinCode                            0\n",
       "Campaign_emails_Sent                   0\n",
       "Campaign_emails_opened                 0\n",
       "Campaign_emails_clicks                 0\n",
       "Occupation                             0\n",
       "ott_web_mouse_hovers                   0\n",
       "ott_enews_mouse_hovers                 0\n",
       "ott_mouse_mouse_hovers                 0\n",
       "unpaidsearch_clicks                    0\n",
       "paidsearch_clicks                      0\n",
       "Subscribed_Others                      0\n",
       "Status_Subscribed                      0\n",
       "dtype: int64"
      ]
     },
     "execution_count": 11,
     "metadata": {},
     "output_type": "execute_result"
    }
   ],
   "source": [
    "df.isnull().sum()"
   ]
  },
  {
   "cell_type": "code",
   "execution_count": 12,
   "metadata": {
    "execution": {
     "iopub.execute_input": "2024-04-13T15:54:54.602718Z",
     "iopub.status.busy": "2024-04-13T15:54:54.602466Z",
     "iopub.status.idle": "2024-04-13T15:54:54.628128Z",
     "shell.execute_reply": "2024-04-13T15:54:54.627006Z",
     "shell.execute_reply.started": "2024-04-13T15:54:54.602696Z"
    }
   },
   "outputs": [
    {
     "data": {
      "text/plain": [
       "array([<NA>, 'M', 'H', 'L'], dtype=object)"
      ]
     },
     "execution_count": 12,
     "metadata": {},
     "output_type": "execute_result"
    }
   ],
   "source": [
    "df.Customer_Tier_Dynamic.unique()"
   ]
  },
  {
   "cell_type": "code",
   "execution_count": 13,
   "metadata": {
    "execution": {
     "iopub.execute_input": "2024-04-13T15:54:54.629360Z",
     "iopub.status.busy": "2024-04-13T15:54:54.629052Z",
     "iopub.status.idle": "2024-04-13T15:54:54.730443Z",
     "shell.execute_reply": "2024-04-13T15:54:54.729577Z",
     "shell.execute_reply.started": "2024-04-13T15:54:54.629330Z"
    }
   },
   "outputs": [
    {
     "name": "stdout",
     "output_type": "stream",
     "text": [
      "<class 'pandas.core.frame.DataFrame'>\n",
      "RangeIndex: 126000 entries, 0 to 125999\n",
      "Data columns (total 25 columns):\n",
      " #   Column                           Non-Null Count   Dtype  \n",
      "---  ------                           --------------   -----  \n",
      " 0   Customer_ID                      126000 non-null  object \n",
      " 1   Month                            126000 non-null  object \n",
      " 2   Customer_Tier_Dynamic            61487 non-null   object \n",
      " 3   Gender                           126000 non-null  object \n",
      " 4   Age                              125928 non-null  float64\n",
      " 5   web_engagement_count             126000 non-null  int64  \n",
      " 6   Pop_ups_count                    126000 non-null  int64  \n",
      " 7   eshop_vouchers_engagement_count  126000 non-null  int64  \n",
      " 8   offer_engagement_count           126000 non-null  int64  \n",
      " 9   Trailer_Attendance_Count         126000 non-null  int64  \n",
      " 10  total_related_ott_searches1      126000 non-null  int64  \n",
      " 11  total_related_ott_searches2      126000 non-null  int64  \n",
      " 12  total_related_ott_searches3      126000 non-null  int64  \n",
      " 13  Geo_PinCode                      126000 non-null  int64  \n",
      " 14  Campaign_emails_Sent             126000 non-null  int64  \n",
      " 15  Campaign_emails_opened           126000 non-null  int64  \n",
      " 16  Campaign_emails_clicks           126000 non-null  int64  \n",
      " 17  Occupation                       126000 non-null  object \n",
      " 18  ott_web_mouse_hovers             126000 non-null  int64  \n",
      " 19  ott_enews_mouse_hovers           126000 non-null  int64  \n",
      " 20  ott_mouse_mouse_hovers           126000 non-null  int64  \n",
      " 21  unpaidsearch_clicks              126000 non-null  object \n",
      " 22  paidsearch_clicks                126000 non-null  object \n",
      " 23  Subscribed_Others                126000 non-null  int64  \n",
      " 24  Status_Subscribed                126000 non-null  object \n",
      "dtypes: float64(1), int64(16), object(8)\n",
      "memory usage: 24.0+ MB\n"
     ]
    }
   ],
   "source": [
    "df.info()"
   ]
  },
  {
   "cell_type": "code",
   "execution_count": 14,
   "metadata": {
    "execution": {
     "iopub.execute_input": "2024-04-13T15:54:54.731749Z",
     "iopub.status.busy": "2024-04-13T15:54:54.731462Z",
     "iopub.status.idle": "2024-04-13T15:54:54.754789Z",
     "shell.execute_reply": "2024-04-13T15:54:54.754016Z",
     "shell.execute_reply.started": "2024-04-13T15:54:54.731724Z"
    }
   },
   "outputs": [],
   "source": [
    "# Handle the missing values explicitly if not already recognized as NA\n",
    "df['Customer_Tier_Dynamic'] = df['Customer_Tier_Dynamic'].fillna('U')\n",
    "\n",
    "# Perform ordinal encoding with a mapping\n",
    "tier_mapping = {'U': 0, 'L': 1, 'M': 2, 'H': 3}\n",
    "df['Customer_Tier_Dynamic'] = df['Customer_Tier_Dynamic'].map(tier_mapping)"
   ]
  },
  {
   "cell_type": "code",
   "execution_count": 15,
   "metadata": {
    "execution": {
     "iopub.execute_input": "2024-04-13T15:54:54.756503Z",
     "iopub.status.busy": "2024-04-13T15:54:54.755927Z",
     "iopub.status.idle": "2024-04-13T15:54:54.784844Z",
     "shell.execute_reply": "2024-04-13T15:54:54.784140Z",
     "shell.execute_reply.started": "2024-04-13T15:54:54.756471Z"
    }
   },
   "outputs": [],
   "source": [
    "# Converting 'yes'/'no' to 0/1\n",
    "df['unpaidsearch_clicks'] = df['unpaidsearch_clicks'].map({'UP_Clicked': 1,'UP_Not Clicked': 0})\n",
    "df['paidsearch_clicks'] = df['paidsearch_clicks'].map({'PS_Clicked': 1, 'PS_Not Clicked': 0})"
   ]
  },
  {
   "cell_type": "code",
   "execution_count": 16,
   "metadata": {
    "execution": {
     "iopub.execute_input": "2024-04-13T15:54:54.786391Z",
     "iopub.status.busy": "2024-04-13T15:54:54.786037Z",
     "iopub.status.idle": "2024-04-13T15:54:54.803645Z",
     "shell.execute_reply": "2024-04-13T15:54:54.802793Z",
     "shell.execute_reply.started": "2024-04-13T15:54:54.786355Z"
    }
   },
   "outputs": [],
   "source": [
    "df['Status_Subscribed'] = df['Status_Subscribed'].map({'Subscribed': 1, 'Not Subscribed': 0})"
   ]
  },
  {
   "cell_type": "code",
   "execution_count": 17,
   "metadata": {
    "execution": {
     "iopub.execute_input": "2024-04-13T15:54:54.805214Z",
     "iopub.status.busy": "2024-04-13T15:54:54.804844Z",
     "iopub.status.idle": "2024-04-13T15:54:54.826871Z",
     "shell.execute_reply": "2024-04-13T15:54:54.826031Z",
     "shell.execute_reply.started": "2024-04-13T15:54:54.805181Z"
    }
   },
   "outputs": [
    {
     "data": {
      "text/html": [
       "<div>\n",
       "<style scoped>\n",
       "    .dataframe tbody tr th:only-of-type {\n",
       "        vertical-align: middle;\n",
       "    }\n",
       "\n",
       "    .dataframe tbody tr th {\n",
       "        vertical-align: top;\n",
       "    }\n",
       "\n",
       "    .dataframe thead th {\n",
       "        text-align: right;\n",
       "    }\n",
       "</style>\n",
       "<table border=\"1\" class=\"dataframe\">\n",
       "  <thead>\n",
       "    <tr style=\"text-align: right;\">\n",
       "      <th></th>\n",
       "      <th>Customer_ID</th>\n",
       "      <th>Month</th>\n",
       "      <th>Customer_Tier_Dynamic</th>\n",
       "      <th>Gender</th>\n",
       "      <th>Age</th>\n",
       "      <th>web_engagement_count</th>\n",
       "      <th>Pop_ups_count</th>\n",
       "      <th>eshop_vouchers_engagement_count</th>\n",
       "      <th>offer_engagement_count</th>\n",
       "      <th>Trailer_Attendance_Count</th>\n",
       "      <th>...</th>\n",
       "      <th>Campaign_emails_opened</th>\n",
       "      <th>Campaign_emails_clicks</th>\n",
       "      <th>Occupation</th>\n",
       "      <th>ott_web_mouse_hovers</th>\n",
       "      <th>ott_enews_mouse_hovers</th>\n",
       "      <th>ott_mouse_mouse_hovers</th>\n",
       "      <th>unpaidsearch_clicks</th>\n",
       "      <th>paidsearch_clicks</th>\n",
       "      <th>Subscribed_Others</th>\n",
       "      <th>Status_Subscribed</th>\n",
       "    </tr>\n",
       "  </thead>\n",
       "  <tbody>\n",
       "    <tr>\n",
       "      <th>0</th>\n",
       "      <td>CU1X100932</td>\n",
       "      <td>Jan'2020</td>\n",
       "      <td>0</td>\n",
       "      <td>Female</td>\n",
       "      <td>80.0</td>\n",
       "      <td>4</td>\n",
       "      <td>0</td>\n",
       "      <td>0</td>\n",
       "      <td>0</td>\n",
       "      <td>0</td>\n",
       "      <td>...</td>\n",
       "      <td>0</td>\n",
       "      <td>0</td>\n",
       "      <td>Active Entrepreneur</td>\n",
       "      <td>0</td>\n",
       "      <td>0</td>\n",
       "      <td>0</td>\n",
       "      <td>1</td>\n",
       "      <td>1</td>\n",
       "      <td>0</td>\n",
       "      <td>0</td>\n",
       "    </tr>\n",
       "    <tr>\n",
       "      <th>1</th>\n",
       "      <td>CU1X100932</td>\n",
       "      <td>Feb'2020</td>\n",
       "      <td>0</td>\n",
       "      <td>Female</td>\n",
       "      <td>80.0</td>\n",
       "      <td>1</td>\n",
       "      <td>0</td>\n",
       "      <td>2</td>\n",
       "      <td>1</td>\n",
       "      <td>2</td>\n",
       "      <td>...</td>\n",
       "      <td>4</td>\n",
       "      <td>0</td>\n",
       "      <td>Active Entrepreneur</td>\n",
       "      <td>1</td>\n",
       "      <td>0</td>\n",
       "      <td>0</td>\n",
       "      <td>1</td>\n",
       "      <td>1</td>\n",
       "      <td>1</td>\n",
       "      <td>0</td>\n",
       "    </tr>\n",
       "    <tr>\n",
       "      <th>2</th>\n",
       "      <td>CU1X100932</td>\n",
       "      <td>March'2020</td>\n",
       "      <td>0</td>\n",
       "      <td>Female</td>\n",
       "      <td>80.0</td>\n",
       "      <td>2</td>\n",
       "      <td>2</td>\n",
       "      <td>0</td>\n",
       "      <td>0</td>\n",
       "      <td>1</td>\n",
       "      <td>...</td>\n",
       "      <td>4</td>\n",
       "      <td>0</td>\n",
       "      <td>Active Entrepreneur</td>\n",
       "      <td>1</td>\n",
       "      <td>2</td>\n",
       "      <td>1</td>\n",
       "      <td>1</td>\n",
       "      <td>1</td>\n",
       "      <td>1</td>\n",
       "      <td>0</td>\n",
       "    </tr>\n",
       "    <tr>\n",
       "      <th>3</th>\n",
       "      <td>CU1X100932</td>\n",
       "      <td>April'2020</td>\n",
       "      <td>0</td>\n",
       "      <td>Female</td>\n",
       "      <td>80.0</td>\n",
       "      <td>0</td>\n",
       "      <td>2</td>\n",
       "      <td>2</td>\n",
       "      <td>0</td>\n",
       "      <td>0</td>\n",
       "      <td>...</td>\n",
       "      <td>3</td>\n",
       "      <td>0</td>\n",
       "      <td>Active Entrepreneur</td>\n",
       "      <td>4</td>\n",
       "      <td>1</td>\n",
       "      <td>3</td>\n",
       "      <td>1</td>\n",
       "      <td>1</td>\n",
       "      <td>1</td>\n",
       "      <td>0</td>\n",
       "    </tr>\n",
       "    <tr>\n",
       "      <th>4</th>\n",
       "      <td>CU1X100932</td>\n",
       "      <td>May'2020</td>\n",
       "      <td>0</td>\n",
       "      <td>Female</td>\n",
       "      <td>80.0</td>\n",
       "      <td>3</td>\n",
       "      <td>0</td>\n",
       "      <td>0</td>\n",
       "      <td>2</td>\n",
       "      <td>1</td>\n",
       "      <td>...</td>\n",
       "      <td>4</td>\n",
       "      <td>0</td>\n",
       "      <td>Active Entrepreneur</td>\n",
       "      <td>2</td>\n",
       "      <td>2</td>\n",
       "      <td>1</td>\n",
       "      <td>1</td>\n",
       "      <td>1</td>\n",
       "      <td>1</td>\n",
       "      <td>0</td>\n",
       "    </tr>\n",
       "  </tbody>\n",
       "</table>\n",
       "<p>5 rows × 25 columns</p>\n",
       "</div>"
      ],
      "text/plain": [
       "  Customer_ID       Month  Customer_Tier_Dynamic  Gender   Age  \\\n",
       "0  CU1X100932    Jan'2020                      0  Female  80.0   \n",
       "1  CU1X100932    Feb'2020                      0  Female  80.0   \n",
       "2  CU1X100932  March'2020                      0  Female  80.0   \n",
       "3  CU1X100932  April'2020                      0  Female  80.0   \n",
       "4  CU1X100932    May'2020                      0  Female  80.0   \n",
       "\n",
       "   web_engagement_count  Pop_ups_count  eshop_vouchers_engagement_count  \\\n",
       "0                     4              0                                0   \n",
       "1                     1              0                                2   \n",
       "2                     2              2                                0   \n",
       "3                     0              2                                2   \n",
       "4                     3              0                                0   \n",
       "\n",
       "   offer_engagement_count  Trailer_Attendance_Count  ...  \\\n",
       "0                       0                         0  ...   \n",
       "1                       1                         2  ...   \n",
       "2                       0                         1  ...   \n",
       "3                       0                         0  ...   \n",
       "4                       2                         1  ...   \n",
       "\n",
       "   Campaign_emails_opened  Campaign_emails_clicks            Occupation  \\\n",
       "0                       0                       0   Active Entrepreneur   \n",
       "1                       4                       0   Active Entrepreneur   \n",
       "2                       4                       0   Active Entrepreneur   \n",
       "3                       3                       0   Active Entrepreneur   \n",
       "4                       4                       0   Active Entrepreneur   \n",
       "\n",
       "   ott_web_mouse_hovers  ott_enews_mouse_hovers  ott_mouse_mouse_hovers  \\\n",
       "0                     0                       0                       0   \n",
       "1                     1                       0                       0   \n",
       "2                     1                       2                       1   \n",
       "3                     4                       1                       3   \n",
       "4                     2                       2                       1   \n",
       "\n",
       "   unpaidsearch_clicks paidsearch_clicks  Subscribed_Others  Status_Subscribed  \n",
       "0                    1                 1                  0                  0  \n",
       "1                    1                 1                  1                  0  \n",
       "2                    1                 1                  1                  0  \n",
       "3                    1                 1                  1                  0  \n",
       "4                    1                 1                  1                  0  \n",
       "\n",
       "[5 rows x 25 columns]"
      ]
     },
     "execution_count": 17,
     "metadata": {},
     "output_type": "execute_result"
    }
   ],
   "source": [
    "df.head()"
   ]
  },
  {
   "cell_type": "code",
   "execution_count": 18,
   "metadata": {
    "execution": {
     "iopub.execute_input": "2024-04-13T15:54:54.828263Z",
     "iopub.status.busy": "2024-04-13T15:54:54.827989Z",
     "iopub.status.idle": "2024-04-13T15:54:54.839726Z",
     "shell.execute_reply": "2024-04-13T15:54:54.838994Z",
     "shell.execute_reply.started": "2024-04-13T15:54:54.828239Z"
    }
   },
   "outputs": [],
   "source": [
    "#Drop gender column to avoid bias\n",
    "df = df.drop(['Gender'], axis=1)"
   ]
  },
  {
   "cell_type": "code",
   "execution_count": 19,
   "metadata": {
    "execution": {
     "iopub.execute_input": "2024-04-13T15:54:54.841019Z",
     "iopub.status.busy": "2024-04-13T15:54:54.840751Z",
     "iopub.status.idle": "2024-04-13T15:54:54.859573Z",
     "shell.execute_reply": "2024-04-13T15:54:54.858692Z",
     "shell.execute_reply.started": "2024-04-13T15:54:54.840993Z"
    }
   },
   "outputs": [],
   "source": [
    "#Drop PINCODE column as other relevant features are present,\n",
    "#else tackle by hashing\n",
    "df = df.drop(['Geo_PinCode'], axis=1)"
   ]
  },
  {
   "cell_type": "code",
   "execution_count": 20,
   "metadata": {
    "execution": {
     "iopub.execute_input": "2024-04-13T15:54:54.860916Z",
     "iopub.status.busy": "2024-04-13T15:54:54.860656Z",
     "iopub.status.idle": "2024-04-13T15:54:54.977760Z",
     "shell.execute_reply": "2024-04-13T15:54:54.976788Z",
     "shell.execute_reply.started": "2024-04-13T15:54:54.860894Z"
    }
   },
   "outputs": [
    {
     "data": {
      "text/html": [
       "<div>\n",
       "<style scoped>\n",
       "    .dataframe tbody tr th:only-of-type {\n",
       "        vertical-align: middle;\n",
       "    }\n",
       "\n",
       "    .dataframe tbody tr th {\n",
       "        vertical-align: top;\n",
       "    }\n",
       "\n",
       "    .dataframe thead th {\n",
       "        text-align: right;\n",
       "    }\n",
       "</style>\n",
       "<table border=\"1\" class=\"dataframe\">\n",
       "  <thead>\n",
       "    <tr style=\"text-align: right;\">\n",
       "      <th></th>\n",
       "      <th>Customer_Tier_Dynamic</th>\n",
       "      <th>Age</th>\n",
       "      <th>web_engagement_count</th>\n",
       "      <th>Pop_ups_count</th>\n",
       "      <th>eshop_vouchers_engagement_count</th>\n",
       "      <th>offer_engagement_count</th>\n",
       "      <th>Trailer_Attendance_Count</th>\n",
       "      <th>total_related_ott_searches1</th>\n",
       "      <th>total_related_ott_searches2</th>\n",
       "      <th>total_related_ott_searches3</th>\n",
       "      <th>Campaign_emails_Sent</th>\n",
       "      <th>Campaign_emails_opened</th>\n",
       "      <th>Campaign_emails_clicks</th>\n",
       "      <th>ott_web_mouse_hovers</th>\n",
       "      <th>ott_enews_mouse_hovers</th>\n",
       "      <th>ott_mouse_mouse_hovers</th>\n",
       "      <th>unpaidsearch_clicks</th>\n",
       "      <th>paidsearch_clicks</th>\n",
       "      <th>Subscribed_Others</th>\n",
       "      <th>Status_Subscribed</th>\n",
       "    </tr>\n",
       "  </thead>\n",
       "  <tbody>\n",
       "    <tr>\n",
       "      <th>count</th>\n",
       "      <td>126000.000000</td>\n",
       "      <td>125928.000000</td>\n",
       "      <td>126000.000000</td>\n",
       "      <td>126000.000000</td>\n",
       "      <td>126000.000000</td>\n",
       "      <td>126000.000000</td>\n",
       "      <td>126000.000000</td>\n",
       "      <td>126000.000000</td>\n",
       "      <td>126000.000000</td>\n",
       "      <td>126000.000000</td>\n",
       "      <td>126000.00000</td>\n",
       "      <td>126000.000000</td>\n",
       "      <td>126000.000000</td>\n",
       "      <td>126000.000000</td>\n",
       "      <td>126000.000000</td>\n",
       "      <td>126000.000000</td>\n",
       "      <td>126000.000000</td>\n",
       "      <td>126000.000000</td>\n",
       "      <td>126000.000000</td>\n",
       "      <td>126000.000000</td>\n",
       "    </tr>\n",
       "    <tr>\n",
       "      <th>mean</th>\n",
       "      <td>1.084508</td>\n",
       "      <td>59.859920</td>\n",
       "      <td>7.988508</td>\n",
       "      <td>12.151619</td>\n",
       "      <td>0.877198</td>\n",
       "      <td>0.193056</td>\n",
       "      <td>0.173913</td>\n",
       "      <td>84.538667</td>\n",
       "      <td>52.482373</td>\n",
       "      <td>87.773437</td>\n",
       "      <td>120.77377</td>\n",
       "      <td>19.700230</td>\n",
       "      <td>2.643119</td>\n",
       "      <td>1.960190</td>\n",
       "      <td>0.215159</td>\n",
       "      <td>0.304230</td>\n",
       "      <td>0.857008</td>\n",
       "      <td>0.917889</td>\n",
       "      <td>0.837468</td>\n",
       "      <td>0.470476</td>\n",
       "    </tr>\n",
       "    <tr>\n",
       "      <th>std</th>\n",
       "      <td>1.190750</td>\n",
       "      <td>14.383418</td>\n",
       "      <td>6.943330</td>\n",
       "      <td>33.200708</td>\n",
       "      <td>3.834378</td>\n",
       "      <td>1.565434</td>\n",
       "      <td>0.475080</td>\n",
       "      <td>89.590225</td>\n",
       "      <td>90.232209</td>\n",
       "      <td>104.427639</td>\n",
       "      <td>157.07286</td>\n",
       "      <td>25.680366</td>\n",
       "      <td>4.597962</td>\n",
       "      <td>8.361915</td>\n",
       "      <td>0.727180</td>\n",
       "      <td>1.785391</td>\n",
       "      <td>0.350066</td>\n",
       "      <td>0.274535</td>\n",
       "      <td>0.368939</td>\n",
       "      <td>0.499130</td>\n",
       "    </tr>\n",
       "    <tr>\n",
       "      <th>min</th>\n",
       "      <td>0.000000</td>\n",
       "      <td>28.000000</td>\n",
       "      <td>0.000000</td>\n",
       "      <td>0.000000</td>\n",
       "      <td>0.000000</td>\n",
       "      <td>0.000000</td>\n",
       "      <td>0.000000</td>\n",
       "      <td>0.000000</td>\n",
       "      <td>0.000000</td>\n",
       "      <td>0.000000</td>\n",
       "      <td>13.00000</td>\n",
       "      <td>0.000000</td>\n",
       "      <td>0.000000</td>\n",
       "      <td>0.000000</td>\n",
       "      <td>0.000000</td>\n",
       "      <td>0.000000</td>\n",
       "      <td>0.000000</td>\n",
       "      <td>0.000000</td>\n",
       "      <td>0.000000</td>\n",
       "      <td>0.000000</td>\n",
       "    </tr>\n",
       "    <tr>\n",
       "      <th>25%</th>\n",
       "      <td>0.000000</td>\n",
       "      <td>51.000000</td>\n",
       "      <td>3.000000</td>\n",
       "      <td>0.000000</td>\n",
       "      <td>0.000000</td>\n",
       "      <td>0.000000</td>\n",
       "      <td>0.000000</td>\n",
       "      <td>24.000000</td>\n",
       "      <td>5.000000</td>\n",
       "      <td>21.000000</td>\n",
       "      <td>22.00000</td>\n",
       "      <td>4.000000</td>\n",
       "      <td>0.000000</td>\n",
       "      <td>0.000000</td>\n",
       "      <td>0.000000</td>\n",
       "      <td>0.000000</td>\n",
       "      <td>1.000000</td>\n",
       "      <td>1.000000</td>\n",
       "      <td>1.000000</td>\n",
       "      <td>0.000000</td>\n",
       "    </tr>\n",
       "    <tr>\n",
       "      <th>50%</th>\n",
       "      <td>0.000000</td>\n",
       "      <td>61.000000</td>\n",
       "      <td>7.000000</td>\n",
       "      <td>1.000000</td>\n",
       "      <td>0.000000</td>\n",
       "      <td>0.000000</td>\n",
       "      <td>0.000000</td>\n",
       "      <td>63.000000</td>\n",
       "      <td>22.000000</td>\n",
       "      <td>61.000000</td>\n",
       "      <td>65.00000</td>\n",
       "      <td>11.000000</td>\n",
       "      <td>1.000000</td>\n",
       "      <td>1.000000</td>\n",
       "      <td>0.000000</td>\n",
       "      <td>0.000000</td>\n",
       "      <td>1.000000</td>\n",
       "      <td>1.000000</td>\n",
       "      <td>1.000000</td>\n",
       "      <td>0.000000</td>\n",
       "    </tr>\n",
       "    <tr>\n",
       "      <th>75%</th>\n",
       "      <td>2.000000</td>\n",
       "      <td>70.000000</td>\n",
       "      <td>12.000000</td>\n",
       "      <td>11.000000</td>\n",
       "      <td>0.000000</td>\n",
       "      <td>0.000000</td>\n",
       "      <td>0.000000</td>\n",
       "      <td>118.000000</td>\n",
       "      <td>64.000000</td>\n",
       "      <td>121.000000</td>\n",
       "      <td>160.00000</td>\n",
       "      <td>27.000000</td>\n",
       "      <td>4.000000</td>\n",
       "      <td>2.000000</td>\n",
       "      <td>0.000000</td>\n",
       "      <td>0.000000</td>\n",
       "      <td>1.000000</td>\n",
       "      <td>1.000000</td>\n",
       "      <td>1.000000</td>\n",
       "      <td>1.000000</td>\n",
       "    </tr>\n",
       "    <tr>\n",
       "      <th>max</th>\n",
       "      <td>3.000000</td>\n",
       "      <td>94.000000</td>\n",
       "      <td>64.000000</td>\n",
       "      <td>1606.000000</td>\n",
       "      <td>153.000000</td>\n",
       "      <td>126.000000</td>\n",
       "      <td>8.000000</td>\n",
       "      <td>2600.000000</td>\n",
       "      <td>3077.000000</td>\n",
       "      <td>4849.000000</td>\n",
       "      <td>5888.00000</td>\n",
       "      <td>755.000000</td>\n",
       "      <td>151.000000</td>\n",
       "      <td>695.000000</td>\n",
       "      <td>48.000000</td>\n",
       "      <td>140.000000</td>\n",
       "      <td>1.000000</td>\n",
       "      <td>1.000000</td>\n",
       "      <td>1.000000</td>\n",
       "      <td>1.000000</td>\n",
       "    </tr>\n",
       "  </tbody>\n",
       "</table>\n",
       "</div>"
      ],
      "text/plain": [
       "       Customer_Tier_Dynamic            Age  web_engagement_count  \\\n",
       "count          126000.000000  125928.000000         126000.000000   \n",
       "mean                1.084508      59.859920              7.988508   \n",
       "std                 1.190750      14.383418              6.943330   \n",
       "min                 0.000000      28.000000              0.000000   \n",
       "25%                 0.000000      51.000000              3.000000   \n",
       "50%                 0.000000      61.000000              7.000000   \n",
       "75%                 2.000000      70.000000             12.000000   \n",
       "max                 3.000000      94.000000             64.000000   \n",
       "\n",
       "       Pop_ups_count  eshop_vouchers_engagement_count  offer_engagement_count  \\\n",
       "count  126000.000000                    126000.000000           126000.000000   \n",
       "mean       12.151619                         0.877198                0.193056   \n",
       "std        33.200708                         3.834378                1.565434   \n",
       "min         0.000000                         0.000000                0.000000   \n",
       "25%         0.000000                         0.000000                0.000000   \n",
       "50%         1.000000                         0.000000                0.000000   \n",
       "75%        11.000000                         0.000000                0.000000   \n",
       "max      1606.000000                       153.000000              126.000000   \n",
       "\n",
       "       Trailer_Attendance_Count  total_related_ott_searches1  \\\n",
       "count             126000.000000                126000.000000   \n",
       "mean                   0.173913                    84.538667   \n",
       "std                    0.475080                    89.590225   \n",
       "min                    0.000000                     0.000000   \n",
       "25%                    0.000000                    24.000000   \n",
       "50%                    0.000000                    63.000000   \n",
       "75%                    0.000000                   118.000000   \n",
       "max                    8.000000                  2600.000000   \n",
       "\n",
       "       total_related_ott_searches2  total_related_ott_searches3  \\\n",
       "count                126000.000000                126000.000000   \n",
       "mean                     52.482373                    87.773437   \n",
       "std                      90.232209                   104.427639   \n",
       "min                       0.000000                     0.000000   \n",
       "25%                       5.000000                    21.000000   \n",
       "50%                      22.000000                    61.000000   \n",
       "75%                      64.000000                   121.000000   \n",
       "max                    3077.000000                  4849.000000   \n",
       "\n",
       "       Campaign_emails_Sent  Campaign_emails_opened  Campaign_emails_clicks  \\\n",
       "count          126000.00000           126000.000000           126000.000000   \n",
       "mean              120.77377               19.700230                2.643119   \n",
       "std               157.07286               25.680366                4.597962   \n",
       "min                13.00000                0.000000                0.000000   \n",
       "25%                22.00000                4.000000                0.000000   \n",
       "50%                65.00000               11.000000                1.000000   \n",
       "75%               160.00000               27.000000                4.000000   \n",
       "max              5888.00000              755.000000              151.000000   \n",
       "\n",
       "       ott_web_mouse_hovers  ott_enews_mouse_hovers  ott_mouse_mouse_hovers  \\\n",
       "count         126000.000000           126000.000000           126000.000000   \n",
       "mean               1.960190                0.215159                0.304230   \n",
       "std                8.361915                0.727180                1.785391   \n",
       "min                0.000000                0.000000                0.000000   \n",
       "25%                0.000000                0.000000                0.000000   \n",
       "50%                1.000000                0.000000                0.000000   \n",
       "75%                2.000000                0.000000                0.000000   \n",
       "max              695.000000               48.000000              140.000000   \n",
       "\n",
       "       unpaidsearch_clicks  paidsearch_clicks  Subscribed_Others  \\\n",
       "count        126000.000000      126000.000000      126000.000000   \n",
       "mean              0.857008           0.917889           0.837468   \n",
       "std               0.350066           0.274535           0.368939   \n",
       "min               0.000000           0.000000           0.000000   \n",
       "25%               1.000000           1.000000           1.000000   \n",
       "50%               1.000000           1.000000           1.000000   \n",
       "75%               1.000000           1.000000           1.000000   \n",
       "max               1.000000           1.000000           1.000000   \n",
       "\n",
       "       Status_Subscribed  \n",
       "count      126000.000000  \n",
       "mean            0.470476  \n",
       "std             0.499130  \n",
       "min             0.000000  \n",
       "25%             0.000000  \n",
       "50%             0.000000  \n",
       "75%             1.000000  \n",
       "max             1.000000  "
      ]
     },
     "execution_count": 20,
     "metadata": {},
     "output_type": "execute_result"
    }
   ],
   "source": [
    "df.describe()"
   ]
  },
  {
   "cell_type": "code",
   "execution_count": 21,
   "metadata": {
    "execution": {
     "iopub.execute_input": "2024-04-13T15:54:54.979207Z",
     "iopub.status.busy": "2024-04-13T15:54:54.978874Z",
     "iopub.status.idle": "2024-04-13T15:54:54.986989Z",
     "shell.execute_reply": "2024-04-13T15:54:54.986007Z",
     "shell.execute_reply.started": "2024-04-13T15:54:54.979181Z"
    }
   },
   "outputs": [
    {
     "data": {
      "text/plain": [
       "array([80., nan, 28., 52., 55., 41., 54., 50., 48., 51., 57., 61., 65.,\n",
       "       56., 64., 60., 49., 53., 46., 44., 63., 68., 43., 45., 70., 47.,\n",
       "       42., 59., 67., 62., 58., 76., 40., 75., 66., 71., 38., 74., 72.,\n",
       "       73., 39., 35., 37., 31., 36., 32., 34., 83., 69., 85., 77., 79.,\n",
       "       84., 78., 81., 82., 89., 87., 90., 86., 88., 93., 94., 33.])"
      ]
     },
     "execution_count": 21,
     "metadata": {},
     "output_type": "execute_result"
    }
   ],
   "source": [
    "df.Age.unique()"
   ]
  },
  {
   "cell_type": "code",
   "execution_count": 22,
   "metadata": {
    "execution": {
     "iopub.execute_input": "2024-04-13T15:54:54.988470Z",
     "iopub.status.busy": "2024-04-13T15:54:54.988162Z",
     "iopub.status.idle": "2024-04-13T15:54:54.996785Z",
     "shell.execute_reply": "2024-04-13T15:54:54.995941Z",
     "shell.execute_reply.started": "2024-04-13T15:54:54.988433Z"
    }
   },
   "outputs": [
    {
     "data": {
      "text/plain": [
       "(61.0, 59.859919954259574)"
      ]
     },
     "execution_count": 22,
     "metadata": {},
     "output_type": "execute_result"
    }
   ],
   "source": [
    "df['Age'].median(), df['Age'].mean()"
   ]
  },
  {
   "cell_type": "code",
   "execution_count": 23,
   "metadata": {
    "execution": {
     "iopub.execute_input": "2024-04-13T15:54:54.998216Z",
     "iopub.status.busy": "2024-04-13T15:54:54.997903Z",
     "iopub.status.idle": "2024-04-13T15:54:57.046663Z",
     "shell.execute_reply": "2024-04-13T15:54:57.045799Z",
     "shell.execute_reply.started": "2024-04-13T15:54:54.998193Z"
    }
   },
   "outputs": [
    {
     "name": "stderr",
     "output_type": "stream",
     "text": [
      "/opt/conda/lib/python3.10/site-packages/seaborn/_oldcore.py:1119: FutureWarning: use_inf_as_na option is deprecated and will be removed in a future version. Convert inf values to NaN before operating instead.\n",
      "  with pd.option_context('mode.use_inf_as_na', True):\n"
     ]
    },
    {
     "data": {
      "image/png": "[encoded data removed]",
      "text/plain": [
       "<Figure size 1000x600 with 1 Axes>"
      ]
     },
     "metadata": {},
     "output_type": "display_data"
    }
   ],
   "source": [
    "# Drop NaN values for visualization purposes\n",
    "age_clean = df['Age'].dropna()\n",
    "\n",
    "import matplotlib.pyplot as plt\n",
    "import seaborn as sns\n",
    "# Histogram\n",
    "plt.figure(figsize=(10, 6))\n",
    "sns.histplot(age_clean, bins=30, kde=True)  # KDE (Kernel Density Estimate) adds a density curve\n",
    "plt.title('Distribution of Ages')\n",
    "plt.xlabel('Age')\n",
    "plt.ylabel('Frequency')\n",
    "plt.grid(True)\n",
    "plt.show()"
   ]
  },
  {
   "cell_type": "code",
   "execution_count": 24,
   "metadata": {
    "execution": {
     "iopub.execute_input": "2024-04-13T15:54:57.048460Z",
     "iopub.status.busy": "2024-04-13T15:54:57.047935Z",
     "iopub.status.idle": "2024-04-13T15:54:57.056392Z",
     "shell.execute_reply": "2024-04-13T15:54:57.055654Z",
     "shell.execute_reply.started": "2024-04-13T15:54:57.048426Z"
    }
   },
   "outputs": [],
   "source": [
    "# Replace NAN by Median (Not Mean as skewness, multimodality in data)\n",
    "df['Age'] = df['Age'].fillna(df['Age'].median())"
   ]
  },
  {
   "cell_type": "code",
   "execution_count": 25,
   "metadata": {
    "execution": {
     "iopub.execute_input": "2024-04-13T15:54:57.058086Z",
     "iopub.status.busy": "2024-04-13T15:54:57.057717Z",
     "iopub.status.idle": "2024-04-13T15:54:57.076890Z",
     "shell.execute_reply": "2024-04-13T15:54:57.075838Z",
     "shell.execute_reply.started": "2024-04-13T15:54:57.058052Z"
    }
   },
   "outputs": [],
   "source": [
    "# Mapping dictionary\n",
    "occupation_mapping = {\n",
    "    'Unknown': 0,\n",
    "    ' Active Entrepreneur': 1,\n",
    "    ' Retired + Passive Entrepreneur': 2,\n",
    "    'Self Employed': 3,\n",
    "    ' Orange Collar Salaried Employee': 4,\n",
    "    ' Blue Collar Salaried Employee': 5,\n",
    "    ' Unemployed': 6,\n",
    "    ' Retired': 7\n",
    "}\n",
    "\n",
    "# Map the occupations to single-digit numbers\n",
    "df['Occupation_Code'] = df['Occupation'].map(occupation_mapping)"
   ]
  },
  {
   "cell_type": "code",
   "execution_count": 26,
   "metadata": {
    "execution": {
     "iopub.execute_input": "2024-04-13T15:54:57.079212Z",
     "iopub.status.busy": "2024-04-13T15:54:57.078244Z",
     "iopub.status.idle": "2024-04-13T15:54:57.130507Z",
     "shell.execute_reply": "2024-04-13T15:54:57.129632Z",
     "shell.execute_reply.started": "2024-04-13T15:54:57.079178Z"
    }
   },
   "outputs": [
    {
     "name": "stdout",
     "output_type": "stream",
     "text": [
      "<class 'pandas.core.frame.DataFrame'>\n",
      "RangeIndex: 126000 entries, 0 to 125999\n",
      "Data columns (total 24 columns):\n",
      " #   Column                           Non-Null Count   Dtype  \n",
      "---  ------                           --------------   -----  \n",
      " 0   Customer_ID                      126000 non-null  object \n",
      " 1   Month                            126000 non-null  object \n",
      " 2   Customer_Tier_Dynamic            126000 non-null  int64  \n",
      " 3   Age                              126000 non-null  float64\n",
      " 4   web_engagement_count             126000 non-null  int64  \n",
      " 5   Pop_ups_count                    126000 non-null  int64  \n",
      " 6   eshop_vouchers_engagement_count  126000 non-null  int64  \n",
      " 7   offer_engagement_count           126000 non-null  int64  \n",
      " 8   Trailer_Attendance_Count         126000 non-null  int64  \n",
      " 9   total_related_ott_searches1      126000 non-null  int64  \n",
      " 10  total_related_ott_searches2      126000 non-null  int64  \n",
      " 11  total_related_ott_searches3      126000 non-null  int64  \n",
      " 12  Campaign_emails_Sent             126000 non-null  int64  \n",
      " 13  Campaign_emails_opened           126000 non-null  int64  \n",
      " 14  Campaign_emails_clicks           126000 non-null  int64  \n",
      " 15  Occupation                       126000 non-null  object \n",
      " 16  ott_web_mouse_hovers             126000 non-null  int64  \n",
      " 17  ott_enews_mouse_hovers           126000 non-null  int64  \n",
      " 18  ott_mouse_mouse_hovers           126000 non-null  int64  \n",
      " 19  unpaidsearch_clicks              126000 non-null  int64  \n",
      " 20  paidsearch_clicks                126000 non-null  int64  \n",
      " 21  Subscribed_Others                126000 non-null  int64  \n",
      " 22  Status_Subscribed                126000 non-null  int64  \n",
      " 23  Occupation_Code                  126000 non-null  int64  \n",
      "dtypes: float64(1), int64(20), object(3)\n",
      "memory usage: 23.1+ MB\n"
     ]
    }
   ],
   "source": [
    "df.info()"
   ]
  },
  {
   "cell_type": "code",
   "execution_count": 27,
   "metadata": {
    "execution": {
     "iopub.execute_input": "2024-04-13T15:54:57.131935Z",
     "iopub.status.busy": "2024-04-13T15:54:57.131674Z",
     "iopub.status.idle": "2024-04-13T15:54:57.137949Z",
     "shell.execute_reply": "2024-04-13T15:54:57.137003Z",
     "shell.execute_reply.started": "2024-04-13T15:54:57.131911Z"
    }
   },
   "outputs": [
    {
     "data": {
      "text/plain": [
       "Index(['Customer_ID', 'Month', 'Customer_Tier_Dynamic', 'Age',\n",
       "       'web_engagement_count', 'Pop_ups_count',\n",
       "       'eshop_vouchers_engagement_count', 'offer_engagement_count',\n",
       "       'Trailer_Attendance_Count', 'total_related_ott_searches1',\n",
       "       'total_related_ott_searches2', 'total_related_ott_searches3',\n",
       "       'Campaign_emails_Sent', 'Campaign_emails_opened',\n",
       "       'Campaign_emails_clicks', 'Occupation', 'ott_web_mouse_hovers',\n",
       "       'ott_enews_mouse_hovers', 'ott_mouse_mouse_hovers',\n",
       "       'unpaidsearch_clicks', 'paidsearch_clicks', 'Subscribed_Others',\n",
       "       'Status_Subscribed', 'Occupation_Code'],\n",
       "      dtype='object')"
      ]
     },
     "execution_count": 27,
     "metadata": {},
     "output_type": "execute_result"
    }
   ],
   "source": [
    "df.columns"
   ]
  },
  {
   "cell_type": "markdown",
   "metadata": {},
   "source": [
    "## Correlation Analysis"
   ]
  },
  {
   "cell_type": "code",
   "execution_count": 28,
   "metadata": {
    "execution": {
     "iopub.execute_input": "2024-04-13T15:54:57.143851Z",
     "iopub.status.busy": "2024-04-13T15:54:57.143604Z",
     "iopub.status.idle": "2024-04-13T15:54:57.304828Z",
     "shell.execute_reply": "2024-04-13T15:54:57.303917Z",
     "shell.execute_reply.started": "2024-04-13T15:54:57.143830Z"
    }
   },
   "outputs": [
    {
     "name": "stdout",
     "output_type": "stream",
     "text": [
      "Customer_Tier_Dynamic              0.395085\n",
      "Age                               -0.004874\n",
      "web_engagement_count               0.323743\n",
      "Pop_ups_count                      0.274904\n",
      "eshop_vouchers_engagement_count    0.109461\n",
      "offer_engagement_count             0.069006\n",
      "Trailer_Attendance_Count           0.053567\n",
      "total_related_ott_searches1        0.330238\n",
      "total_related_ott_searches2        0.160327\n",
      "total_related_ott_searches3        0.300549\n",
      "Campaign_emails_Sent               0.214254\n",
      "Campaign_emails_opened             0.258963\n",
      "Campaign_emails_clicks             0.201608\n",
      "ott_web_mouse_hovers               0.096016\n",
      "ott_enews_mouse_hovers             0.064230\n",
      "ott_mouse_mouse_hovers             0.038512\n",
      "unpaidsearch_clicks                0.249622\n",
      "paidsearch_clicks                  0.280302\n",
      "Subscribed_Others                  0.415251\n",
      "Occupation_Code                   -0.067633\n",
      "Name: Status_Subscribed, dtype: float64\n"
     ]
    }
   ],
   "source": [
    "import numpy as np\n",
    "numeric_df = df.select_dtypes(include=[np.number])\n",
    "correlations = numeric_df.corr()\n",
    "target_correlations = correlations['Status_Subscribed'].drop('Status_Subscribed', errors='ignore')  # Exclude self-correlation\n",
    "print(target_correlations)"
   ]
  },
  {
   "cell_type": "code",
   "execution_count": 29,
   "metadata": {
    "execution": {
     "iopub.execute_input": "2024-04-13T15:54:57.306340Z",
     "iopub.status.busy": "2024-04-13T15:54:57.306088Z",
     "iopub.status.idle": "2024-04-13T15:54:57.312999Z",
     "shell.execute_reply": "2024-04-13T15:54:57.312087Z",
     "shell.execute_reply.started": "2024-04-13T15:54:57.306318Z"
    }
   },
   "outputs": [
    {
     "data": {
      "text/plain": [
       "Index(['Customer_Tier_Dynamic', 'Age', 'web_engagement_count', 'Pop_ups_count',\n",
       "       'eshop_vouchers_engagement_count', 'offer_engagement_count',\n",
       "       'Trailer_Attendance_Count', 'total_related_ott_searches1',\n",
       "       'total_related_ott_searches2', 'total_related_ott_searches3',\n",
       "       'Campaign_emails_Sent', 'Campaign_emails_opened',\n",
       "       'Campaign_emails_clicks', 'ott_web_mouse_hovers',\n",
       "       'ott_enews_mouse_hovers', 'ott_mouse_mouse_hovers',\n",
       "       'unpaidsearch_clicks', 'paidsearch_clicks', 'Subscribed_Others',\n",
       "       'Status_Subscribed', 'Occupation_Code'],\n",
       "      dtype='object')"
      ]
     },
     "execution_count": 29,
     "metadata": {},
     "output_type": "execute_result"
    }
   ],
   "source": [
    "numeric_df.columns"
   ]
  },
  {
   "cell_type": "code",
   "execution_count": 30,
   "metadata": {
    "execution": {
     "iopub.execute_input": "2024-04-13T15:54:57.314729Z",
     "iopub.status.busy": "2024-04-13T15:54:57.314372Z",
     "iopub.status.idle": "2024-04-13T15:54:57.458912Z",
     "shell.execute_reply": "2024-04-13T15:54:57.457974Z",
     "shell.execute_reply.started": "2024-04-13T15:54:57.314697Z"
    }
   },
   "outputs": [
    {
     "name": "stderr",
     "output_type": "stream",
     "text": [
      "/tmp/ipykernel_34/3200331118.py:9: UserWarning: Could not infer format, so each element will be parsed individually, falling back to `dateutil`. To ensure parsing is consistent and as-expected, please specify a format.\n",
      "  df['Month'] = pd.to_datetime(df['Month'], errors='coerce')\n"
     ]
    }
   ],
   "source": [
    "# Convert month names to standard format\n",
    "df['Month'] = df['Month'].str.replace(\"'\", \"\").str.title()\n",
    "\n",
    "# Try to parse the 'Month' column with a specified format\n",
    "try:\n",
    "    df['Month'] = pd.to_datetime(df['Month'], format='%b %Y')\n",
    "except ValueError:\n",
    "    # If the format is not consistent, coerce the invalid values to NaT\n",
    "    df['Month'] = pd.to_datetime(df['Month'], errors='coerce')"
   ]
  },
  {
   "cell_type": "code",
   "execution_count": 31,
   "metadata": {
    "execution": {
     "iopub.execute_input": "2024-04-13T15:54:57.460420Z",
     "iopub.status.busy": "2024-04-13T15:54:57.460096Z",
     "iopub.status.idle": "2024-04-13T15:54:57.491836Z",
     "shell.execute_reply": "2024-04-13T15:54:57.491001Z",
     "shell.execute_reply.started": "2024-04-13T15:54:57.460394Z"
    }
   },
   "outputs": [],
   "source": [
    "# Sort data by 'Customer_ID' and 'Month'\n",
    "df.sort_values(by=['Customer_ID', 'Month'], inplace=True)"
   ]
  },
  {
   "cell_type": "markdown",
   "metadata": {},
   "source": [
    "## Feature Engg: Lag Regression of Input Features"
   ]
  },
  {
   "cell_type": "code",
   "execution_count": 32,
   "metadata": {
    "execution": {
     "iopub.execute_input": "2024-04-13T15:54:57.493038Z",
     "iopub.status.busy": "2024-04-13T15:54:57.492785Z",
     "iopub.status.idle": "2024-04-13T15:54:57.903349Z",
     "shell.execute_reply": "2024-04-13T15:54:57.902555Z",
     "shell.execute_reply.started": "2024-04-13T15:54:57.493016Z"
    }
   },
   "outputs": [],
   "source": [
    "# Define the feature columns that need to be lagged\n",
    "features_to_lag = [\n",
    "    'Age', 'web_engagement_count', 'Pop_ups_count', 'eshop_vouchers_engagement_count',\n",
    "    'offer_engagement_count', 'Trailer_Attendance_Count', 'total_related_ott_searches1',\n",
    "    'total_related_ott_searches2', 'total_related_ott_searches3', 'Campaign_emails_Sent',\n",
    "    'Campaign_emails_opened', 'Campaign_emails_clicks', 'ott_web_mouse_hovers',\n",
    "    'ott_enews_mouse_hovers', 'ott_mouse_mouse_hovers', 'unpaidsearch_clicks',\n",
    "    'paidsearch_clicks', 'Subscribed_Others', 'Occupation_Code'\n",
    "]\n",
    "\n",
    "# Lagging features by 1 month\n",
    "for feature in features_to_lag:\n",
    "    df[feature + '_lag1'] = df.groupby('Customer_ID')[feature].shift(1)"
   ]
  },
  {
   "cell_type": "code",
   "execution_count": 33,
   "metadata": {
    "execution": {
     "iopub.execute_input": "2024-04-13T15:54:57.904699Z",
     "iopub.status.busy": "2024-04-13T15:54:57.904416Z",
     "iopub.status.idle": "2024-04-13T15:54:57.920393Z",
     "shell.execute_reply": "2024-04-13T15:54:57.919610Z",
     "shell.execute_reply.started": "2024-04-13T15:54:57.904658Z"
    }
   },
   "outputs": [],
   "source": [
    "# Create a list of lagged feature columns for use in the model\n",
    "lagged_feature_columns = [feature + '_lag1' for feature in features_to_lag]\n",
    "\n",
    "# Creating the feature matrix X with lagged features\n",
    "X = df[lagged_feature_columns]\n",
    "\n",
    "# Creating the target vector y from the 'Status_Subscribed' column\n",
    "y = df['Status_Subscribed']"
   ]
  },
  {
   "cell_type": "code",
   "execution_count": 34,
   "metadata": {
    "execution": {
     "iopub.execute_input": "2024-04-13T15:54:57.921755Z",
     "iopub.status.busy": "2024-04-13T15:54:57.921456Z",
     "iopub.status.idle": "2024-04-13T15:54:57.948619Z",
     "shell.execute_reply": "2024-04-13T15:54:57.947551Z",
     "shell.execute_reply.started": "2024-04-13T15:54:57.921720Z"
    }
   },
   "outputs": [
    {
     "data": {
      "text/html": [
       "<div>\n",
       "<style scoped>\n",
       "    .dataframe tbody tr th:only-of-type {\n",
       "        vertical-align: middle;\n",
       "    }\n",
       "\n",
       "    .dataframe tbody tr th {\n",
       "        vertical-align: top;\n",
       "    }\n",
       "\n",
       "    .dataframe thead th {\n",
       "        text-align: right;\n",
       "    }\n",
       "</style>\n",
       "<table border=\"1\" class=\"dataframe\">\n",
       "  <thead>\n",
       "    <tr style=\"text-align: right;\">\n",
       "      <th></th>\n",
       "      <th>Age_lag1</th>\n",
       "      <th>web_engagement_count_lag1</th>\n",
       "      <th>Pop_ups_count_lag1</th>\n",
       "      <th>eshop_vouchers_engagement_count_lag1</th>\n",
       "      <th>offer_engagement_count_lag1</th>\n",
       "      <th>Trailer_Attendance_Count_lag1</th>\n",
       "      <th>total_related_ott_searches1_lag1</th>\n",
       "      <th>total_related_ott_searches2_lag1</th>\n",
       "      <th>total_related_ott_searches3_lag1</th>\n",
       "      <th>Campaign_emails_Sent_lag1</th>\n",
       "      <th>Campaign_emails_opened_lag1</th>\n",
       "      <th>Campaign_emails_clicks_lag1</th>\n",
       "      <th>ott_web_mouse_hovers_lag1</th>\n",
       "      <th>ott_enews_mouse_hovers_lag1</th>\n",
       "      <th>ott_mouse_mouse_hovers_lag1</th>\n",
       "      <th>unpaidsearch_clicks_lag1</th>\n",
       "      <th>paidsearch_clicks_lag1</th>\n",
       "      <th>Subscribed_Others_lag1</th>\n",
       "      <th>Occupation_Code_lag1</th>\n",
       "    </tr>\n",
       "  </thead>\n",
       "  <tbody>\n",
       "    <tr>\n",
       "      <th>0</th>\n",
       "      <td>NaN</td>\n",
       "      <td>NaN</td>\n",
       "      <td>NaN</td>\n",
       "      <td>NaN</td>\n",
       "      <td>NaN</td>\n",
       "      <td>NaN</td>\n",
       "      <td>NaN</td>\n",
       "      <td>NaN</td>\n",
       "      <td>NaN</td>\n",
       "      <td>NaN</td>\n",
       "      <td>NaN</td>\n",
       "      <td>NaN</td>\n",
       "      <td>NaN</td>\n",
       "      <td>NaN</td>\n",
       "      <td>NaN</td>\n",
       "      <td>NaN</td>\n",
       "      <td>NaN</td>\n",
       "      <td>NaN</td>\n",
       "      <td>NaN</td>\n",
       "    </tr>\n",
       "    <tr>\n",
       "      <th>1</th>\n",
       "      <td>80.0</td>\n",
       "      <td>4.0</td>\n",
       "      <td>0.0</td>\n",
       "      <td>0.0</td>\n",
       "      <td>0.0</td>\n",
       "      <td>0.0</td>\n",
       "      <td>0.0</td>\n",
       "      <td>0.0</td>\n",
       "      <td>0.0</td>\n",
       "      <td>13.0</td>\n",
       "      <td>0.0</td>\n",
       "      <td>0.0</td>\n",
       "      <td>0.0</td>\n",
       "      <td>0.0</td>\n",
       "      <td>0.0</td>\n",
       "      <td>1.0</td>\n",
       "      <td>1.0</td>\n",
       "      <td>0.0</td>\n",
       "      <td>1.0</td>\n",
       "    </tr>\n",
       "    <tr>\n",
       "      <th>2</th>\n",
       "      <td>80.0</td>\n",
       "      <td>1.0</td>\n",
       "      <td>0.0</td>\n",
       "      <td>2.0</td>\n",
       "      <td>1.0</td>\n",
       "      <td>2.0</td>\n",
       "      <td>13.0</td>\n",
       "      <td>5.0</td>\n",
       "      <td>19.0</td>\n",
       "      <td>22.0</td>\n",
       "      <td>4.0</td>\n",
       "      <td>0.0</td>\n",
       "      <td>1.0</td>\n",
       "      <td>0.0</td>\n",
       "      <td>0.0</td>\n",
       "      <td>1.0</td>\n",
       "      <td>1.0</td>\n",
       "      <td>1.0</td>\n",
       "      <td>1.0</td>\n",
       "    </tr>\n",
       "    <tr>\n",
       "      <th>3</th>\n",
       "      <td>80.0</td>\n",
       "      <td>2.0</td>\n",
       "      <td>2.0</td>\n",
       "      <td>0.0</td>\n",
       "      <td>0.0</td>\n",
       "      <td>1.0</td>\n",
       "      <td>14.0</td>\n",
       "      <td>3.0</td>\n",
       "      <td>20.0</td>\n",
       "      <td>22.0</td>\n",
       "      <td>4.0</td>\n",
       "      <td>0.0</td>\n",
       "      <td>1.0</td>\n",
       "      <td>2.0</td>\n",
       "      <td>1.0</td>\n",
       "      <td>1.0</td>\n",
       "      <td>1.0</td>\n",
       "      <td>1.0</td>\n",
       "      <td>1.0</td>\n",
       "    </tr>\n",
       "    <tr>\n",
       "      <th>4</th>\n",
       "      <td>80.0</td>\n",
       "      <td>0.0</td>\n",
       "      <td>2.0</td>\n",
       "      <td>2.0</td>\n",
       "      <td>0.0</td>\n",
       "      <td>0.0</td>\n",
       "      <td>15.0</td>\n",
       "      <td>3.0</td>\n",
       "      <td>9.0</td>\n",
       "      <td>17.0</td>\n",
       "      <td>3.0</td>\n",
       "      <td>0.0</td>\n",
       "      <td>4.0</td>\n",
       "      <td>1.0</td>\n",
       "      <td>3.0</td>\n",
       "      <td>1.0</td>\n",
       "      <td>1.0</td>\n",
       "      <td>1.0</td>\n",
       "      <td>1.0</td>\n",
       "    </tr>\n",
       "  </tbody>\n",
       "</table>\n",
       "</div>"
      ],
      "text/plain": [
       "   Age_lag1  web_engagement_count_lag1  Pop_ups_count_lag1  \\\n",
       "0       NaN                        NaN                 NaN   \n",
       "1      80.0                        4.0                 0.0   \n",
       "2      80.0                        1.0                 0.0   \n",
       "3      80.0                        2.0                 2.0   \n",
       "4      80.0                        0.0                 2.0   \n",
       "\n",
       "   eshop_vouchers_engagement_count_lag1  offer_engagement_count_lag1  \\\n",
       "0                                   NaN                          NaN   \n",
       "1                                   0.0                          0.0   \n",
       "2                                   2.0                          1.0   \n",
       "3                                   0.0                          0.0   \n",
       "4                                   2.0                          0.0   \n",
       "\n",
       "   Trailer_Attendance_Count_lag1  total_related_ott_searches1_lag1  \\\n",
       "0                            NaN                               NaN   \n",
       "1                            0.0                               0.0   \n",
       "2                            2.0                              13.0   \n",
       "3                            1.0                              14.0   \n",
       "4                            0.0                              15.0   \n",
       "\n",
       "   total_related_ott_searches2_lag1  total_related_ott_searches3_lag1  \\\n",
       "0                               NaN                               NaN   \n",
       "1                               0.0                               0.0   \n",
       "2                               5.0                              19.0   \n",
       "3                               3.0                              20.0   \n",
       "4                               3.0                               9.0   \n",
       "\n",
       "   Campaign_emails_Sent_lag1  Campaign_emails_opened_lag1  \\\n",
       "0                        NaN                          NaN   \n",
       "1                       13.0                          0.0   \n",
       "2                       22.0                          4.0   \n",
       "3                       22.0                          4.0   \n",
       "4                       17.0                          3.0   \n",
       "\n",
       "   Campaign_emails_clicks_lag1  ott_web_mouse_hovers_lag1  \\\n",
       "0                          NaN                        NaN   \n",
       "1                          0.0                        0.0   \n",
       "2                          0.0                        1.0   \n",
       "3                          0.0                        1.0   \n",
       "4                          0.0                        4.0   \n",
       "\n",
       "   ott_enews_mouse_hovers_lag1  ott_mouse_mouse_hovers_lag1  \\\n",
       "0                          NaN                          NaN   \n",
       "1                          0.0                          0.0   \n",
       "2                          0.0                          0.0   \n",
       "3                          2.0                          1.0   \n",
       "4                          1.0                          3.0   \n",
       "\n",
       "   unpaidsearch_clicks_lag1  paidsearch_clicks_lag1  Subscribed_Others_lag1  \\\n",
       "0                       NaN                     NaN                     NaN   \n",
       "1                       1.0                     1.0                     0.0   \n",
       "2                       1.0                     1.0                     1.0   \n",
       "3                       1.0                     1.0                     1.0   \n",
       "4                       1.0                     1.0                     1.0   \n",
       "\n",
       "   Occupation_Code_lag1  \n",
       "0                   NaN  \n",
       "1                   1.0  \n",
       "2                   1.0  \n",
       "3                   1.0  \n",
       "4                   1.0  "
      ]
     },
     "execution_count": 34,
     "metadata": {},
     "output_type": "execute_result"
    }
   ],
   "source": [
    "X.head()"
   ]
  },
  {
   "cell_type": "code",
   "execution_count": 35,
   "metadata": {
    "execution": {
     "iopub.execute_input": "2024-04-13T15:54:57.949872Z",
     "iopub.status.busy": "2024-04-13T15:54:57.949576Z",
     "iopub.status.idle": "2024-04-13T15:54:57.985656Z",
     "shell.execute_reply": "2024-04-13T15:54:57.984689Z",
     "shell.execute_reply.started": "2024-04-13T15:54:57.949846Z"
    }
   },
   "outputs": [
    {
     "data": {
      "text/html": [
       "<div>\n",
       "<style scoped>\n",
       "    .dataframe tbody tr th:only-of-type {\n",
       "        vertical-align: middle;\n",
       "    }\n",
       "\n",
       "    .dataframe tbody tr th {\n",
       "        vertical-align: top;\n",
       "    }\n",
       "\n",
       "    .dataframe thead th {\n",
       "        text-align: right;\n",
       "    }\n",
       "</style>\n",
       "<table border=\"1\" class=\"dataframe\">\n",
       "  <thead>\n",
       "    <tr style=\"text-align: right;\">\n",
       "      <th></th>\n",
       "      <th>Age_lag1</th>\n",
       "      <th>web_engagement_count_lag1</th>\n",
       "      <th>Pop_ups_count_lag1</th>\n",
       "      <th>eshop_vouchers_engagement_count_lag1</th>\n",
       "      <th>offer_engagement_count_lag1</th>\n",
       "      <th>Trailer_Attendance_Count_lag1</th>\n",
       "      <th>total_related_ott_searches1_lag1</th>\n",
       "      <th>total_related_ott_searches2_lag1</th>\n",
       "      <th>total_related_ott_searches3_lag1</th>\n",
       "      <th>Campaign_emails_Sent_lag1</th>\n",
       "      <th>Campaign_emails_opened_lag1</th>\n",
       "      <th>Campaign_emails_clicks_lag1</th>\n",
       "      <th>ott_web_mouse_hovers_lag1</th>\n",
       "      <th>ott_enews_mouse_hovers_lag1</th>\n",
       "      <th>ott_mouse_mouse_hovers_lag1</th>\n",
       "      <th>unpaidsearch_clicks_lag1</th>\n",
       "      <th>paidsearch_clicks_lag1</th>\n",
       "      <th>Subscribed_Others_lag1</th>\n",
       "      <th>Occupation_Code_lag1</th>\n",
       "    </tr>\n",
       "  </thead>\n",
       "  <tbody>\n",
       "    <tr>\n",
       "      <th>62911</th>\n",
       "      <td>68.0</td>\n",
       "      <td>11.0</td>\n",
       "      <td>9.0</td>\n",
       "      <td>0.0</td>\n",
       "      <td>0.0</td>\n",
       "      <td>0.0</td>\n",
       "      <td>140.0</td>\n",
       "      <td>127.0</td>\n",
       "      <td>106.0</td>\n",
       "      <td>143.0</td>\n",
       "      <td>4.0</td>\n",
       "      <td>0.0</td>\n",
       "      <td>1.0</td>\n",
       "      <td>1.0</td>\n",
       "      <td>1.0</td>\n",
       "      <td>1.0</td>\n",
       "      <td>1.0</td>\n",
       "      <td>1.0</td>\n",
       "      <td>1.0</td>\n",
       "    </tr>\n",
       "    <tr>\n",
       "      <th>77443</th>\n",
       "      <td>55.0</td>\n",
       "      <td>19.0</td>\n",
       "      <td>2.0</td>\n",
       "      <td>6.0</td>\n",
       "      <td>0.0</td>\n",
       "      <td>0.0</td>\n",
       "      <td>167.0</td>\n",
       "      <td>91.0</td>\n",
       "      <td>200.0</td>\n",
       "      <td>155.0</td>\n",
       "      <td>31.0</td>\n",
       "      <td>6.0</td>\n",
       "      <td>1.0</td>\n",
       "      <td>0.0</td>\n",
       "      <td>2.0</td>\n",
       "      <td>1.0</td>\n",
       "      <td>1.0</td>\n",
       "      <td>1.0</td>\n",
       "      <td>6.0</td>\n",
       "    </tr>\n",
       "    <tr>\n",
       "      <th>40954</th>\n",
       "      <td>60.0</td>\n",
       "      <td>1.0</td>\n",
       "      <td>0.0</td>\n",
       "      <td>0.0</td>\n",
       "      <td>0.0</td>\n",
       "      <td>0.0</td>\n",
       "      <td>68.0</td>\n",
       "      <td>114.0</td>\n",
       "      <td>292.0</td>\n",
       "      <td>143.0</td>\n",
       "      <td>28.0</td>\n",
       "      <td>5.0</td>\n",
       "      <td>5.0</td>\n",
       "      <td>0.0</td>\n",
       "      <td>0.0</td>\n",
       "      <td>1.0</td>\n",
       "      <td>1.0</td>\n",
       "      <td>1.0</td>\n",
       "      <td>3.0</td>\n",
       "    </tr>\n",
       "    <tr>\n",
       "      <th>72805</th>\n",
       "      <td>61.0</td>\n",
       "      <td>0.0</td>\n",
       "      <td>0.0</td>\n",
       "      <td>0.0</td>\n",
       "      <td>0.0</td>\n",
       "      <td>0.0</td>\n",
       "      <td>0.0</td>\n",
       "      <td>0.0</td>\n",
       "      <td>0.0</td>\n",
       "      <td>13.0</td>\n",
       "      <td>0.0</td>\n",
       "      <td>0.0</td>\n",
       "      <td>0.0</td>\n",
       "      <td>0.0</td>\n",
       "      <td>0.0</td>\n",
       "      <td>0.0</td>\n",
       "      <td>0.0</td>\n",
       "      <td>0.0</td>\n",
       "      <td>4.0</td>\n",
       "    </tr>\n",
       "    <tr>\n",
       "      <th>2823</th>\n",
       "      <td>80.0</td>\n",
       "      <td>8.0</td>\n",
       "      <td>0.0</td>\n",
       "      <td>1.0</td>\n",
       "      <td>1.0</td>\n",
       "      <td>1.0</td>\n",
       "      <td>149.0</td>\n",
       "      <td>41.0</td>\n",
       "      <td>155.0</td>\n",
       "      <td>138.0</td>\n",
       "      <td>27.0</td>\n",
       "      <td>0.0</td>\n",
       "      <td>2.0</td>\n",
       "      <td>2.0</td>\n",
       "      <td>2.0</td>\n",
       "      <td>1.0</td>\n",
       "      <td>1.0</td>\n",
       "      <td>1.0</td>\n",
       "      <td>1.0</td>\n",
       "    </tr>\n",
       "  </tbody>\n",
       "</table>\n",
       "</div>"
      ],
      "text/plain": [
       "       Age_lag1  web_engagement_count_lag1  Pop_ups_count_lag1  \\\n",
       "62911      68.0                       11.0                 9.0   \n",
       "77443      55.0                       19.0                 2.0   \n",
       "40954      60.0                        1.0                 0.0   \n",
       "72805      61.0                        0.0                 0.0   \n",
       "2823       80.0                        8.0                 0.0   \n",
       "\n",
       "       eshop_vouchers_engagement_count_lag1  offer_engagement_count_lag1  \\\n",
       "62911                                   0.0                          0.0   \n",
       "77443                                   6.0                          0.0   \n",
       "40954                                   0.0                          0.0   \n",
       "72805                                   0.0                          0.0   \n",
       "2823                                    1.0                          1.0   \n",
       "\n",
       "       Trailer_Attendance_Count_lag1  total_related_ott_searches1_lag1  \\\n",
       "62911                            0.0                             140.0   \n",
       "77443                            0.0                             167.0   \n",
       "40954                            0.0                              68.0   \n",
       "72805                            0.0                               0.0   \n",
       "2823                             1.0                             149.0   \n",
       "\n",
       "       total_related_ott_searches2_lag1  total_related_ott_searches3_lag1  \\\n",
       "62911                             127.0                             106.0   \n",
       "77443                              91.0                             200.0   \n",
       "40954                             114.0                             292.0   \n",
       "72805                               0.0                               0.0   \n",
       "2823                               41.0                             155.0   \n",
       "\n",
       "       Campaign_emails_Sent_lag1  Campaign_emails_opened_lag1  \\\n",
       "62911                      143.0                          4.0   \n",
       "77443                      155.0                         31.0   \n",
       "40954                      143.0                         28.0   \n",
       "72805                       13.0                          0.0   \n",
       "2823                       138.0                         27.0   \n",
       "\n",
       "       Campaign_emails_clicks_lag1  ott_web_mouse_hovers_lag1  \\\n",
       "62911                          0.0                        1.0   \n",
       "77443                          6.0                        1.0   \n",
       "40954                          5.0                        5.0   \n",
       "72805                          0.0                        0.0   \n",
       "2823                           0.0                        2.0   \n",
       "\n",
       "       ott_enews_mouse_hovers_lag1  ott_mouse_mouse_hovers_lag1  \\\n",
       "62911                          1.0                          1.0   \n",
       "77443                          0.0                          2.0   \n",
       "40954                          0.0                          0.0   \n",
       "72805                          0.0                          0.0   \n",
       "2823                           2.0                          2.0   \n",
       "\n",
       "       unpaidsearch_clicks_lag1  paidsearch_clicks_lag1  \\\n",
       "62911                       1.0                     1.0   \n",
       "77443                       1.0                     1.0   \n",
       "40954                       1.0                     1.0   \n",
       "72805                       0.0                     0.0   \n",
       "2823                        1.0                     1.0   \n",
       "\n",
       "       Subscribed_Others_lag1  Occupation_Code_lag1  \n",
       "62911                     1.0                   1.0  \n",
       "77443                     1.0                   6.0  \n",
       "40954                     1.0                   3.0  \n",
       "72805                     0.0                   4.0  \n",
       "2823                      1.0                   1.0  "
      ]
     },
     "execution_count": 35,
     "metadata": {},
     "output_type": "execute_result"
    }
   ],
   "source": [
    "X.sample(5)"
   ]
  },
  {
   "cell_type": "code",
   "execution_count": 36,
   "metadata": {
    "execution": {
     "iopub.execute_input": "2024-04-13T15:54:57.987004Z",
     "iopub.status.busy": "2024-04-13T15:54:57.986722Z",
     "iopub.status.idle": "2024-04-13T15:54:57.995042Z",
     "shell.execute_reply": "2024-04-13T15:54:57.994131Z",
     "shell.execute_reply.started": "2024-04-13T15:54:57.986957Z"
    }
   },
   "outputs": [
    {
     "data": {
      "text/plain": [
       "0         0\n",
       "1         0\n",
       "2         0\n",
       "3         0\n",
       "4         0\n",
       "         ..\n",
       "125995    1\n",
       "125996    1\n",
       "125997    1\n",
       "125998    1\n",
       "125999    1\n",
       "Name: Status_Subscribed, Length: 126000, dtype: int64"
      ]
     },
     "execution_count": 36,
     "metadata": {},
     "output_type": "execute_result"
    }
   ],
   "source": [
    "y"
   ]
  },
  {
   "cell_type": "code",
   "execution_count": 37,
   "metadata": {
    "execution": {
     "iopub.execute_input": "2024-04-13T15:54:57.996418Z",
     "iopub.status.busy": "2024-04-13T15:54:57.996148Z",
     "iopub.status.idle": "2024-04-13T15:54:58.020050Z",
     "shell.execute_reply": "2024-04-13T15:54:58.019190Z",
     "shell.execute_reply.started": "2024-04-13T15:54:57.996396Z"
    }
   },
   "outputs": [
    {
     "name": "stdout",
     "output_type": "stream",
     "text": [
      "        Age_lag1  web_engagement_count_lag1  Pop_ups_count_lag1  \\\n",
      "0            NaN                        NaN                 NaN   \n",
      "12           NaN                        NaN                 NaN   \n",
      "24           NaN                        NaN                 NaN   \n",
      "36           NaN                        NaN                 NaN   \n",
      "48           NaN                        NaN                 NaN   \n",
      "...          ...                        ...                 ...   \n",
      "125940       NaN                        NaN                 NaN   \n",
      "125952       NaN                        NaN                 NaN   \n",
      "125964       NaN                        NaN                 NaN   \n",
      "125976       NaN                        NaN                 NaN   \n",
      "125988       NaN                        NaN                 NaN   \n",
      "\n",
      "        eshop_vouchers_engagement_count_lag1  offer_engagement_count_lag1  \\\n",
      "0                                        NaN                          NaN   \n",
      "12                                       NaN                          NaN   \n",
      "24                                       NaN                          NaN   \n",
      "36                                       NaN                          NaN   \n",
      "48                                       NaN                          NaN   \n",
      "...                                      ...                          ...   \n",
      "125940                                   NaN                          NaN   \n",
      "125952                                   NaN                          NaN   \n",
      "125964                                   NaN                          NaN   \n",
      "125976                                   NaN                          NaN   \n",
      "125988                                   NaN                          NaN   \n",
      "\n",
      "        Trailer_Attendance_Count_lag1  total_related_ott_searches1_lag1  \\\n",
      "0                                 NaN                               NaN   \n",
      "12                                NaN                               NaN   \n",
      "24                                NaN                               NaN   \n",
      "36                                NaN                               NaN   \n",
      "48                                NaN                               NaN   \n",
      "...                               ...                               ...   \n",
      "125940                            NaN                               NaN   \n",
      "125952                            NaN                               NaN   \n",
      "125964                            NaN                               NaN   \n",
      "125976                            NaN                               NaN   \n",
      "125988                            NaN                               NaN   \n",
      "\n",
      "        total_related_ott_searches2_lag1  total_related_ott_searches3_lag1  \\\n",
      "0                                    NaN                               NaN   \n",
      "12                                   NaN                               NaN   \n",
      "24                                   NaN                               NaN   \n",
      "36                                   NaN                               NaN   \n",
      "48                                   NaN                               NaN   \n",
      "...                                  ...                               ...   \n",
      "125940                               NaN                               NaN   \n",
      "125952                               NaN                               NaN   \n",
      "125964                               NaN                               NaN   \n",
      "125976                               NaN                               NaN   \n",
      "125988                               NaN                               NaN   \n",
      "\n",
      "        Campaign_emails_Sent_lag1  Campaign_emails_opened_lag1  \\\n",
      "0                             NaN                          NaN   \n",
      "12                            NaN                          NaN   \n",
      "24                            NaN                          NaN   \n",
      "36                            NaN                          NaN   \n",
      "48                            NaN                          NaN   \n",
      "...                           ...                          ...   \n",
      "125940                        NaN                          NaN   \n",
      "125952                        NaN                          NaN   \n",
      "125964                        NaN                          NaN   \n",
      "125976                        NaN                          NaN   \n",
      "125988                        NaN                          NaN   \n",
      "\n",
      "        Campaign_emails_clicks_lag1  ott_web_mouse_hovers_lag1  \\\n",
      "0                               NaN                        NaN   \n",
      "12                              NaN                        NaN   \n",
      "24                              NaN                        NaN   \n",
      "36                              NaN                        NaN   \n",
      "48                              NaN                        NaN   \n",
      "...                             ...                        ...   \n",
      "125940                          NaN                        NaN   \n",
      "125952                          NaN                        NaN   \n",
      "125964                          NaN                        NaN   \n",
      "125976                          NaN                        NaN   \n",
      "125988                          NaN                        NaN   \n",
      "\n",
      "        ott_enews_mouse_hovers_lag1  ott_mouse_mouse_hovers_lag1  \\\n",
      "0                               NaN                          NaN   \n",
      "12                              NaN                          NaN   \n",
      "24                              NaN                          NaN   \n",
      "36                              NaN                          NaN   \n",
      "48                              NaN                          NaN   \n",
      "...                             ...                          ...   \n",
      "125940                          NaN                          NaN   \n",
      "125952                          NaN                          NaN   \n",
      "125964                          NaN                          NaN   \n",
      "125976                          NaN                          NaN   \n",
      "125988                          NaN                          NaN   \n",
      "\n",
      "        unpaidsearch_clicks_lag1  paidsearch_clicks_lag1  \\\n",
      "0                            NaN                     NaN   \n",
      "12                           NaN                     NaN   \n",
      "24                           NaN                     NaN   \n",
      "36                           NaN                     NaN   \n",
      "48                           NaN                     NaN   \n",
      "...                          ...                     ...   \n",
      "125940                       NaN                     NaN   \n",
      "125952                       NaN                     NaN   \n",
      "125964                       NaN                     NaN   \n",
      "125976                       NaN                     NaN   \n",
      "125988                       NaN                     NaN   \n",
      "\n",
      "        Subscribed_Others_lag1  Occupation_Code_lag1  \n",
      "0                          NaN                   NaN  \n",
      "12                         NaN                   NaN  \n",
      "24                         NaN                   NaN  \n",
      "36                         NaN                   NaN  \n",
      "48                         NaN                   NaN  \n",
      "...                        ...                   ...  \n",
      "125940                     NaN                   NaN  \n",
      "125952                     NaN                   NaN  \n",
      "125964                     NaN                   NaN  \n",
      "125976                     NaN                   NaN  \n",
      "125988                     NaN                   NaN  \n",
      "\n",
      "[10500 rows x 19 columns]\n"
     ]
    }
   ],
   "source": [
    "# Display rows with any NaN values - \n",
    "# 1st row of each unique customer ID is NAN due to lag regression\n",
    "rows_with_nans = X[X.isna().any(axis=1)]\n",
    "print(rows_with_nans)"
   ]
  },
  {
   "cell_type": "code",
   "execution_count": 38,
   "metadata": {
    "execution": {
     "iopub.execute_input": "2024-04-13T15:54:58.021374Z",
     "iopub.status.busy": "2024-04-13T15:54:58.021112Z",
     "iopub.status.idle": "2024-04-13T15:54:58.640527Z",
     "shell.execute_reply": "2024-04-13T15:54:58.639515Z",
     "shell.execute_reply.started": "2024-04-13T15:54:58.021352Z"
    }
   },
   "outputs": [
    {
     "data": {
      "text/html": [
       "<div>\n",
       "<style scoped>\n",
       "    .dataframe tbody tr th:only-of-type {\n",
       "        vertical-align: middle;\n",
       "    }\n",
       "\n",
       "    .dataframe tbody tr th {\n",
       "        vertical-align: top;\n",
       "    }\n",
       "\n",
       "    .dataframe thead th {\n",
       "        text-align: right;\n",
       "    }\n",
       "</style>\n",
       "<table border=\"1\" class=\"dataframe\">\n",
       "  <thead>\n",
       "    <tr style=\"text-align: right;\">\n",
       "      <th></th>\n",
       "      <th>Age_lag1</th>\n",
       "      <th>web_engagement_count_lag1</th>\n",
       "      <th>Pop_ups_count_lag1</th>\n",
       "      <th>eshop_vouchers_engagement_count_lag1</th>\n",
       "      <th>offer_engagement_count_lag1</th>\n",
       "      <th>Trailer_Attendance_Count_lag1</th>\n",
       "      <th>total_related_ott_searches1_lag1</th>\n",
       "      <th>total_related_ott_searches2_lag1</th>\n",
       "      <th>total_related_ott_searches3_lag1</th>\n",
       "      <th>Campaign_emails_Sent_lag1</th>\n",
       "      <th>Campaign_emails_opened_lag1</th>\n",
       "      <th>Campaign_emails_clicks_lag1</th>\n",
       "      <th>ott_web_mouse_hovers_lag1</th>\n",
       "      <th>ott_enews_mouse_hovers_lag1</th>\n",
       "      <th>ott_mouse_mouse_hovers_lag1</th>\n",
       "      <th>unpaidsearch_clicks_lag1</th>\n",
       "      <th>paidsearch_clicks_lag1</th>\n",
       "      <th>Subscribed_Others_lag1</th>\n",
       "      <th>Occupation_Code_lag1</th>\n",
       "    </tr>\n",
       "  </thead>\n",
       "  <tbody>\n",
       "    <tr>\n",
       "      <th>0</th>\n",
       "      <td>61.0</td>\n",
       "      <td>7.0</td>\n",
       "      <td>1.0</td>\n",
       "      <td>0.0</td>\n",
       "      <td>0.0</td>\n",
       "      <td>0.0</td>\n",
       "      <td>62.0</td>\n",
       "      <td>21.0</td>\n",
       "      <td>59.0</td>\n",
       "      <td>63.0</td>\n",
       "      <td>11.0</td>\n",
       "      <td>1.0</td>\n",
       "      <td>0.0</td>\n",
       "      <td>0.0</td>\n",
       "      <td>0.0</td>\n",
       "      <td>1.0</td>\n",
       "      <td>1.0</td>\n",
       "      <td>1.0</td>\n",
       "      <td>3.0</td>\n",
       "    </tr>\n",
       "    <tr>\n",
       "      <th>1</th>\n",
       "      <td>80.0</td>\n",
       "      <td>4.0</td>\n",
       "      <td>0.0</td>\n",
       "      <td>0.0</td>\n",
       "      <td>0.0</td>\n",
       "      <td>0.0</td>\n",
       "      <td>0.0</td>\n",
       "      <td>0.0</td>\n",
       "      <td>0.0</td>\n",
       "      <td>13.0</td>\n",
       "      <td>0.0</td>\n",
       "      <td>0.0</td>\n",
       "      <td>0.0</td>\n",
       "      <td>0.0</td>\n",
       "      <td>0.0</td>\n",
       "      <td>1.0</td>\n",
       "      <td>1.0</td>\n",
       "      <td>0.0</td>\n",
       "      <td>1.0</td>\n",
       "    </tr>\n",
       "    <tr>\n",
       "      <th>2</th>\n",
       "      <td>80.0</td>\n",
       "      <td>1.0</td>\n",
       "      <td>0.0</td>\n",
       "      <td>2.0</td>\n",
       "      <td>1.0</td>\n",
       "      <td>2.0</td>\n",
       "      <td>13.0</td>\n",
       "      <td>5.0</td>\n",
       "      <td>19.0</td>\n",
       "      <td>22.0</td>\n",
       "      <td>4.0</td>\n",
       "      <td>0.0</td>\n",
       "      <td>1.0</td>\n",
       "      <td>0.0</td>\n",
       "      <td>0.0</td>\n",
       "      <td>1.0</td>\n",
       "      <td>1.0</td>\n",
       "      <td>1.0</td>\n",
       "      <td>1.0</td>\n",
       "    </tr>\n",
       "    <tr>\n",
       "      <th>3</th>\n",
       "      <td>80.0</td>\n",
       "      <td>2.0</td>\n",
       "      <td>2.0</td>\n",
       "      <td>0.0</td>\n",
       "      <td>0.0</td>\n",
       "      <td>1.0</td>\n",
       "      <td>14.0</td>\n",
       "      <td>3.0</td>\n",
       "      <td>20.0</td>\n",
       "      <td>22.0</td>\n",
       "      <td>4.0</td>\n",
       "      <td>0.0</td>\n",
       "      <td>1.0</td>\n",
       "      <td>2.0</td>\n",
       "      <td>1.0</td>\n",
       "      <td>1.0</td>\n",
       "      <td>1.0</td>\n",
       "      <td>1.0</td>\n",
       "      <td>1.0</td>\n",
       "    </tr>\n",
       "    <tr>\n",
       "      <th>4</th>\n",
       "      <td>80.0</td>\n",
       "      <td>0.0</td>\n",
       "      <td>2.0</td>\n",
       "      <td>2.0</td>\n",
       "      <td>0.0</td>\n",
       "      <td>0.0</td>\n",
       "      <td>15.0</td>\n",
       "      <td>3.0</td>\n",
       "      <td>9.0</td>\n",
       "      <td>17.0</td>\n",
       "      <td>3.0</td>\n",
       "      <td>0.0</td>\n",
       "      <td>4.0</td>\n",
       "      <td>1.0</td>\n",
       "      <td>3.0</td>\n",
       "      <td>1.0</td>\n",
       "      <td>1.0</td>\n",
       "      <td>1.0</td>\n",
       "      <td>1.0</td>\n",
       "    </tr>\n",
       "  </tbody>\n",
       "</table>\n",
       "</div>"
      ],
      "text/plain": [
       "   Age_lag1  web_engagement_count_lag1  Pop_ups_count_lag1  \\\n",
       "0      61.0                        7.0                 1.0   \n",
       "1      80.0                        4.0                 0.0   \n",
       "2      80.0                        1.0                 0.0   \n",
       "3      80.0                        2.0                 2.0   \n",
       "4      80.0                        0.0                 2.0   \n",
       "\n",
       "   eshop_vouchers_engagement_count_lag1  offer_engagement_count_lag1  \\\n",
       "0                                   0.0                          0.0   \n",
       "1                                   0.0                          0.0   \n",
       "2                                   2.0                          1.0   \n",
       "3                                   0.0                          0.0   \n",
       "4                                   2.0                          0.0   \n",
       "\n",
       "   Trailer_Attendance_Count_lag1  total_related_ott_searches1_lag1  \\\n",
       "0                            0.0                              62.0   \n",
       "1                            0.0                               0.0   \n",
       "2                            2.0                              13.0   \n",
       "3                            1.0                              14.0   \n",
       "4                            0.0                              15.0   \n",
       "\n",
       "   total_related_ott_searches2_lag1  total_related_ott_searches3_lag1  \\\n",
       "0                              21.0                              59.0   \n",
       "1                               0.0                               0.0   \n",
       "2                               5.0                              19.0   \n",
       "3                               3.0                              20.0   \n",
       "4                               3.0                               9.0   \n",
       "\n",
       "   Campaign_emails_Sent_lag1  Campaign_emails_opened_lag1  \\\n",
       "0                       63.0                         11.0   \n",
       "1                       13.0                          0.0   \n",
       "2                       22.0                          4.0   \n",
       "3                       22.0                          4.0   \n",
       "4                       17.0                          3.0   \n",
       "\n",
       "   Campaign_emails_clicks_lag1  ott_web_mouse_hovers_lag1  \\\n",
       "0                          1.0                        0.0   \n",
       "1                          0.0                        0.0   \n",
       "2                          0.0                        1.0   \n",
       "3                          0.0                        1.0   \n",
       "4                          0.0                        4.0   \n",
       "\n",
       "   ott_enews_mouse_hovers_lag1  ott_mouse_mouse_hovers_lag1  \\\n",
       "0                          0.0                          0.0   \n",
       "1                          0.0                          0.0   \n",
       "2                          0.0                          0.0   \n",
       "3                          2.0                          1.0   \n",
       "4                          1.0                          3.0   \n",
       "\n",
       "   unpaidsearch_clicks_lag1  paidsearch_clicks_lag1  Subscribed_Others_lag1  \\\n",
       "0                       1.0                     1.0                     1.0   \n",
       "1                       1.0                     1.0                     0.0   \n",
       "2                       1.0                     1.0                     1.0   \n",
       "3                       1.0                     1.0                     1.0   \n",
       "4                       1.0                     1.0                     1.0   \n",
       "\n",
       "   Occupation_Code_lag1  \n",
       "0                   3.0  \n",
       "1                   1.0  \n",
       "2                   1.0  \n",
       "3                   1.0  \n",
       "4                   1.0  "
      ]
     },
     "execution_count": 38,
     "metadata": {},
     "output_type": "execute_result"
    }
   ],
   "source": [
    "from sklearn.impute import SimpleImputer\n",
    "imputer = SimpleImputer(strategy='median')\n",
    "X_imputed = imputer.fit_transform(X)\n",
    "\n",
    "# Convert the numpy array back to a DataFrame\n",
    "# Make sure to use the same column names as the original DataFrame\n",
    "X_imputed_df = pd.DataFrame(X_imputed, columns=X.columns)\n",
    "\n",
    "# Now X_imputed_df is a DataFrame with the missing values filled\n",
    "X_imputed_df.head()"
   ]
  },
  {
   "cell_type": "code",
   "execution_count": 39,
   "metadata": {
    "execution": {
     "iopub.execute_input": "2024-04-13T15:54:58.642194Z",
     "iopub.status.busy": "2024-04-13T15:54:58.641698Z",
     "iopub.status.idle": "2024-04-13T15:54:58.793050Z",
     "shell.execute_reply": "2024-04-13T15:54:58.792307Z",
     "shell.execute_reply.started": "2024-04-13T15:54:58.642165Z"
    }
   },
   "outputs": [],
   "source": [
    "from sklearn.ensemble import RandomForestClassifier\n",
    "from sklearn.model_selection import train_test_split\n",
    "from sklearn.metrics import classification_report"
   ]
  },
  {
   "cell_type": "code",
   "execution_count": 40,
   "metadata": {
    "execution": {
     "iopub.execute_input": "2024-04-13T15:54:58.794475Z",
     "iopub.status.busy": "2024-04-13T15:54:58.794188Z",
     "iopub.status.idle": "2024-04-13T15:54:58.817873Z",
     "shell.execute_reply": "2024-04-13T15:54:58.816796Z",
     "shell.execute_reply.started": "2024-04-13T15:54:58.794451Z"
    }
   },
   "outputs": [],
   "source": [
    "#Cross val\n",
    "X_train, X_val, y_train, y_val = train_test_split(X_imputed_df, y, test_size=0.2, random_state=42)"
   ]
  },
  {
   "cell_type": "code",
   "execution_count": 41,
   "metadata": {
    "execution": {
     "iopub.execute_input": "2024-04-13T15:54:58.819442Z",
     "iopub.status.busy": "2024-04-13T15:54:58.819086Z",
     "iopub.status.idle": "2024-04-13T15:55:16.848421Z",
     "shell.execute_reply": "2024-04-13T15:55:16.847541Z",
     "shell.execute_reply.started": "2024-04-13T15:54:58.819409Z"
    }
   },
   "outputs": [
    {
     "data": {
      "text/html": [
       "<style>#sk-container-id-1 {color: black;background-color: white;}#sk-container-id-1 pre{padding: 0;}#sk-container-id-1 div.sk-toggleable {background-color: white;}#sk-container-id-1 label.sk-toggleable__label {cursor: pointer;display: block;width: 100%;margin-bottom: 0;padding: 0.3em;box-sizing: border-box;text-align: center;}#sk-container-id-1 label.sk-toggleable__label-arrow:before {content: \"▸\";float: left;margin-right: 0.25em;color: #696969;}#sk-container-id-1 label.sk-toggleable__label-arrow:hover:before {color: black;}#sk-container-id-1 div.sk-estimator:hover label.sk-toggleable__label-arrow:before {color: black;}#sk-container-id-1 div.sk-toggleable__content {max-height: 0;max-width: 0;overflow: hidden;text-align: left;background-color: #f0f8ff;}#sk-container-id-1 div.sk-toggleable__content pre {margin: 0.2em;color: black;border-radius: 0.25em;background-color: #f0f8ff;}#sk-container-id-1 input.sk-toggleable__control:checked~div.sk-toggleable__content {max-height: 200px;max-width: 100%;overflow: auto;}#sk-container-id-1 input.sk-toggleable__control:checked~label.sk-toggleable__label-arrow:before {content: \"▾\";}#sk-container-id-1 div.sk-estimator input.sk-toggleable__control:checked~label.sk-toggleable__label {background-color: #d4ebff;}#sk-container-id-1 div.sk-label input.sk-toggleable__control:checked~label.sk-toggleable__label {background-color: #d4ebff;}#sk-container-id-1 input.sk-hidden--visually {border: 0;clip: rect(1px 1px 1px 1px);clip: rect(1px, 1px, 1px, 1px);height: 1px;margin: -1px;overflow: hidden;padding: 0;position: absolute;width: 1px;}#sk-container-id-1 div.sk-estimator {font-family: monospace;background-color: #f0f8ff;border: 1px dotted black;border-radius: 0.25em;box-sizing: border-box;margin-bottom: 0.5em;}#sk-container-id-1 div.sk-estimator:hover {background-color: #d4ebff;}#sk-container-id-1 div.sk-parallel-item::after {content: \"\";width: 100%;border-bottom: 1px solid gray;flex-grow: 1;}#sk-container-id-1 div.sk-label:hover label.sk-toggleable__label {background-color: #d4ebff;}#sk-container-id-1 div.sk-serial::before {content: \"\";position: absolute;border-left: 1px solid gray;box-sizing: border-box;top: 0;bottom: 0;left: 50%;z-index: 0;}#sk-container-id-1 div.sk-serial {display: flex;flex-direction: column;align-items: center;background-color: white;padding-right: 0.2em;padding-left: 0.2em;position: relative;}#sk-container-id-1 div.sk-item {position: relative;z-index: 1;}#sk-container-id-1 div.sk-parallel {display: flex;align-items: stretch;justify-content: center;background-color: white;position: relative;}#sk-container-id-1 div.sk-item::before, #sk-container-id-1 div.sk-parallel-item::before {content: \"\";position: absolute;border-left: 1px solid gray;box-sizing: border-box;top: 0;bottom: 0;left: 50%;z-index: -1;}#sk-container-id-1 div.sk-parallel-item {display: flex;flex-direction: column;z-index: 1;position: relative;background-color: white;}#sk-container-id-1 div.sk-parallel-item:first-child::after {align-self: flex-end;width: 50%;}#sk-container-id-1 div.sk-parallel-item:last-child::after {align-self: flex-start;width: 50%;}#sk-container-id-1 div.sk-parallel-item:only-child::after {width: 0;}#sk-container-id-1 div.sk-dashed-wrapped {border: 1px dashed gray;margin: 0 0.4em 0.5em 0.4em;box-sizing: border-box;padding-bottom: 0.4em;background-color: white;}#sk-container-id-1 div.sk-label label {font-family: monospace;font-weight: bold;display: inline-block;line-height: 1.2em;}#sk-container-id-1 div.sk-label-container {text-align: center;}#sk-container-id-1 div.sk-container {/* jupyter's `normalize.less` sets `[hidden] { display: none; }` but bootstrap.min.css set `[hidden] { display: none !important; }` so we also need the `!important` here to be able to override the default hidden behavior on the sphinx rendered scikit-learn.org. See: https://github.com/scikit-learn/scikit-learn/issues/21755 */display: inline-block !important;position: relative;}#sk-container-id-1 div.sk-text-repr-fallback {display: none;}</style><div id=\"sk-container-id-1\" class=\"sk-top-container\"><div class=\"sk-text-repr-fallback\"><pre>RandomForestClassifier(random_state=42)</pre><b>In a Jupyter environment, please rerun this cell to show the HTML representation or trust the notebook. <br />On GitHub, the HTML representation is unable to render, please try loading this page with nbviewer.org.</b></div><div class=\"sk-container\" hidden><div class=\"sk-item\"><div class=\"sk-estimator sk-toggleable\"><input class=\"sk-toggleable__control sk-hidden--visually\" id=\"sk-estimator-id-1\" type=\"checkbox\" checked><label for=\"sk-estimator-id-1\" class=\"sk-toggleable__label sk-toggleable__label-arrow\">RandomForestClassifier</label><div class=\"sk-toggleable__content\"><pre>RandomForestClassifier(random_state=42)</pre></div></div></div></div></div>"
      ],
      "text/plain": [
       "RandomForestClassifier(random_state=42)"
      ]
     },
     "execution_count": 41,
     "metadata": {},
     "output_type": "execute_result"
    }
   ],
   "source": [
    "# Initialize the Random Forest classifier\n",
    "rf_classifier = RandomForestClassifier(n_estimators=100, random_state=42)\n",
    "\n",
    "# Train the classifier\n",
    "rf_classifier.fit(X_train, y_train)"
   ]
  },
  {
   "cell_type": "code",
   "execution_count": 42,
   "metadata": {
    "execution": {
     "iopub.execute_input": "2024-04-13T15:55:16.849924Z",
     "iopub.status.busy": "2024-04-13T15:55:16.849593Z",
     "iopub.status.idle": "2024-04-13T15:55:17.497443Z",
     "shell.execute_reply": "2024-04-13T15:55:17.496461Z",
     "shell.execute_reply.started": "2024-04-13T15:55:16.849898Z"
    }
   },
   "outputs": [
    {
     "name": "stdout",
     "output_type": "stream",
     "text": [
      "              precision    recall  f1-score   support\n",
      "\n",
      "           0       0.80      0.78      0.79     13130\n",
      "           1       0.76      0.79      0.77     12070\n",
      "\n",
      "    accuracy                           0.78     25200\n",
      "   macro avg       0.78      0.78      0.78     25200\n",
      "weighted avg       0.78      0.78      0.78     25200\n",
      "\n"
     ]
    }
   ],
   "source": [
    "# Predict on the validation set\n",
    "y_val_pred = rf_classifier.predict(X_val)\n",
    "\n",
    "# Print the classification report\n",
    "print(classification_report(y_val, y_val_pred))"
   ]
  },
  {
   "cell_type": "markdown",
   "metadata": {},
   "source": [
    "## Train Model on 100% historical data, to predict on future Monthly customers' SUBSCRIPTION STATUS"
   ]
  },
  {
   "cell_type": "code",
   "execution_count": 43,
   "metadata": {
    "execution": {
     "iopub.execute_input": "2024-04-13T15:55:17.499402Z",
     "iopub.status.busy": "2024-04-13T15:55:17.499033Z",
     "iopub.status.idle": "2024-04-13T15:55:39.346228Z",
     "shell.execute_reply": "2024-04-13T15:55:39.345332Z",
     "shell.execute_reply.started": "2024-04-13T15:55:17.499367Z"
    }
   },
   "outputs": [
    {
     "data": {
      "text/html": [
       "<style>#sk-container-id-2 {color: black;background-color: white;}#sk-container-id-2 pre{padding: 0;}#sk-container-id-2 div.sk-toggleable {background-color: white;}#sk-container-id-2 label.sk-toggleable__label {cursor: pointer;display: block;width: 100%;margin-bottom: 0;padding: 0.3em;box-sizing: border-box;text-align: center;}#sk-container-id-2 label.sk-toggleable__label-arrow:before {content: \"▸\";float: left;margin-right: 0.25em;color: #696969;}#sk-container-id-2 label.sk-toggleable__label-arrow:hover:before {color: black;}#sk-container-id-2 div.sk-estimator:hover label.sk-toggleable__label-arrow:before {color: black;}#sk-container-id-2 div.sk-toggleable__content {max-height: 0;max-width: 0;overflow: hidden;text-align: left;background-color: #f0f8ff;}#sk-container-id-2 div.sk-toggleable__content pre {margin: 0.2em;color: black;border-radius: 0.25em;background-color: #f0f8ff;}#sk-container-id-2 input.sk-toggleable__control:checked~div.sk-toggleable__content {max-height: 200px;max-width: 100%;overflow: auto;}#sk-container-id-2 input.sk-toggleable__control:checked~label.sk-toggleable__label-arrow:before {content: \"▾\";}#sk-container-id-2 div.sk-estimator input.sk-toggleable__control:checked~label.sk-toggleable__label {background-color: #d4ebff;}#sk-container-id-2 div.sk-label input.sk-toggleable__control:checked~label.sk-toggleable__label {background-color: #d4ebff;}#sk-container-id-2 input.sk-hidden--visually {border: 0;clip: rect(1px 1px 1px 1px);clip: rect(1px, 1px, 1px, 1px);height: 1px;margin: -1px;overflow: hidden;padding: 0;position: absolute;width: 1px;}#sk-container-id-2 div.sk-estimator {font-family: monospace;background-color: #f0f8ff;border: 1px dotted black;border-radius: 0.25em;box-sizing: border-box;margin-bottom: 0.5em;}#sk-container-id-2 div.sk-estimator:hover {background-color: #d4ebff;}#sk-container-id-2 div.sk-parallel-item::after {content: \"\";width: 100%;border-bottom: 1px solid gray;flex-grow: 1;}#sk-container-id-2 div.sk-label:hover label.sk-toggleable__label {background-color: #d4ebff;}#sk-container-id-2 div.sk-serial::before {content: \"\";position: absolute;border-left: 1px solid gray;box-sizing: border-box;top: 0;bottom: 0;left: 50%;z-index: 0;}#sk-container-id-2 div.sk-serial {display: flex;flex-direction: column;align-items: center;background-color: white;padding-right: 0.2em;padding-left: 0.2em;position: relative;}#sk-container-id-2 div.sk-item {position: relative;z-index: 1;}#sk-container-id-2 div.sk-parallel {display: flex;align-items: stretch;justify-content: center;background-color: white;position: relative;}#sk-container-id-2 div.sk-item::before, #sk-container-id-2 div.sk-parallel-item::before {content: \"\";position: absolute;border-left: 1px solid gray;box-sizing: border-box;top: 0;bottom: 0;left: 50%;z-index: -1;}#sk-container-id-2 div.sk-parallel-item {display: flex;flex-direction: column;z-index: 1;position: relative;background-color: white;}#sk-container-id-2 div.sk-parallel-item:first-child::after {align-self: flex-end;width: 50%;}#sk-container-id-2 div.sk-parallel-item:last-child::after {align-self: flex-start;width: 50%;}#sk-container-id-2 div.sk-parallel-item:only-child::after {width: 0;}#sk-container-id-2 div.sk-dashed-wrapped {border: 1px dashed gray;margin: 0 0.4em 0.5em 0.4em;box-sizing: border-box;padding-bottom: 0.4em;background-color: white;}#sk-container-id-2 div.sk-label label {font-family: monospace;font-weight: bold;display: inline-block;line-height: 1.2em;}#sk-container-id-2 div.sk-label-container {text-align: center;}#sk-container-id-2 div.sk-container {/* jupyter's `normalize.less` sets `[hidden] { display: none; }` but bootstrap.min.css set `[hidden] { display: none !important; }` so we also need the `!important` here to be able to override the default hidden behavior on the sphinx rendered scikit-learn.org. See: https://github.com/scikit-learn/scikit-learn/issues/21755 */display: inline-block !important;position: relative;}#sk-container-id-2 div.sk-text-repr-fallback {display: none;}</style><div id=\"sk-container-id-2\" class=\"sk-top-container\"><div class=\"sk-text-repr-fallback\"><pre>RandomForestClassifier(random_state=42)</pre><b>In a Jupyter environment, please rerun this cell to show the HTML representation or trust the notebook. <br />On GitHub, the HTML representation is unable to render, please try loading this page with nbviewer.org.</b></div><div class=\"sk-container\" hidden><div class=\"sk-item\"><div class=\"sk-estimator sk-toggleable\"><input class=\"sk-toggleable__control sk-hidden--visually\" id=\"sk-estimator-id-2\" type=\"checkbox\" checked><label for=\"sk-estimator-id-2\" class=\"sk-toggleable__label sk-toggleable__label-arrow\">RandomForestClassifier</label><div class=\"sk-toggleable__content\"><pre>RandomForestClassifier(random_state=42)</pre></div></div></div></div></div>"
      ],
      "text/plain": [
       "RandomForestClassifier(random_state=42)"
      ]
     },
     "execution_count": 43,
     "metadata": {},
     "output_type": "execute_result"
    }
   ],
   "source": [
    "rf = RandomForestClassifier(n_estimators=100, random_state=42)\n",
    "rf.fit(X_imputed_df,y)"
   ]
  },
  {
   "cell_type": "code",
   "execution_count": 44,
   "metadata": {
    "execution": {
     "iopub.execute_input": "2024-04-13T15:55:39.347633Z",
     "iopub.status.busy": "2024-04-13T15:55:39.347381Z",
     "iopub.status.idle": "2024-04-13T15:55:39.353504Z",
     "shell.execute_reply": "2024-04-13T15:55:39.352621Z",
     "shell.execute_reply.started": "2024-04-13T15:55:39.347611Z"
    }
   },
   "outputs": [
    {
     "data": {
      "text/plain": [
       "Index(['Age_lag1', 'web_engagement_count_lag1', 'Pop_ups_count_lag1',\n",
       "       'eshop_vouchers_engagement_count_lag1', 'offer_engagement_count_lag1',\n",
       "       'Trailer_Attendance_Count_lag1', 'total_related_ott_searches1_lag1',\n",
       "       'total_related_ott_searches2_lag1', 'total_related_ott_searches3_lag1',\n",
       "       'Campaign_emails_Sent_lag1', 'Campaign_emails_opened_lag1',\n",
       "       'Campaign_emails_clicks_lag1', 'ott_web_mouse_hovers_lag1',\n",
       "       'ott_enews_mouse_hovers_lag1', 'ott_mouse_mouse_hovers_lag1',\n",
       "       'unpaidsearch_clicks_lag1', 'paidsearch_clicks_lag1',\n",
       "       'Subscribed_Others_lag1', 'Occupation_Code_lag1'],\n",
       "      dtype='object')"
      ]
     },
     "execution_count": 44,
     "metadata": {},
     "output_type": "execute_result"
    }
   ],
   "source": [
    "X_imputed_df.columns"
   ]
  },
  {
   "cell_type": "code",
   "execution_count": 45,
   "metadata": {
    "execution": {
     "iopub.execute_input": "2024-04-13T15:55:39.355100Z",
     "iopub.status.busy": "2024-04-13T15:55:39.354755Z",
     "iopub.status.idle": "2024-04-13T15:55:39.930919Z",
     "shell.execute_reply": "2024-04-13T15:55:39.930005Z",
     "shell.execute_reply.started": "2024-04-13T15:55:39.355070Z"
    }
   },
   "outputs": [
    {
     "name": "stdout",
     "output_type": "stream",
     "text": [
      "       Customer_ID      Month  Predicted_Status_Subscribed\n",
      "11      CU1X100932 2021-01-01                            0\n",
      "23      CU1X100933 2021-01-01                            1\n",
      "35      CU1X100934 2021-01-01                            1\n",
      "47      CU1X100935 2021-01-01                            1\n",
      "59      CU1X100936 2021-01-01                            0\n",
      "...            ...        ...                          ...\n",
      "125951  CU1X111696 2021-02-01                            1\n",
      "125963  CU1X111697 2021-02-01                            1\n",
      "125975  CU1X111698 2021-02-01                            1\n",
      "125987  CU1X111699 2021-02-01                            1\n",
      "125999  CU1X111700 2021-02-01                            1\n",
      "\n",
      "[21000 rows x 3 columns]\n"
     ]
    }
   ],
   "source": [
    "# To simulate the prediction data for Jan and Feb 2021,\n",
    "# we will use Dec 2020 data for Jan 2021 predictions, and\n",
    "# Jan 2021 data for Feb 2021 predictions\n",
    "\n",
    "\n",
    "# Prepare data for January 2021 based on December 2020 data\n",
    "jan_2021_data = X_imputed_df[df['Month'] == pd.Timestamp('2020-12-01')].copy()\n",
    "\n",
    "# Simulating that we have January data already for February predictions\n",
    "# (assuming the data generation step is similar)\n",
    "# If not, replace this line with appropriate data handling.\n",
    "feb_2021_data = X_imputed_df[df['Month'] == pd.Timestamp('2021-01-01')].copy() if pd.Timestamp('2021-01-01') in df['Month'].values else jan_2021_data.copy()\n",
    "\n",
    "# Prediction\n",
    "jan_predictions = rf.predict(jan_2021_data)\n",
    "feb_predictions = rf.predict(feb_2021_data)\n",
    "\n",
    "# Convert predictions to DataFrame\n",
    "jan_2021_predictions_df = pd.DataFrame({\n",
    "    'Customer_ID': df[df['Month'] == pd.Timestamp('2020-12-01')]['Customer_ID'], \n",
    "    'Month': pd.Timestamp('2021-01-01'), \n",
    "    'Predicted_Status_Subscribed': jan_predictions\n",
    "})\n",
    "\n",
    "feb_2021_predictions_df = pd.DataFrame({\n",
    "    'Customer_ID': df[df['Month'] == pd.Timestamp('2021-01-01')]['Customer_ID'] if pd.Timestamp('2021-01-01') in df['Month'].values else df[df['Month'] == pd.Timestamp('2020-12-01')]['Customer_ID'], \n",
    "    'Month': pd.Timestamp('2021-02-01'), \n",
    "    'Predicted_Status_Subscribed': feb_predictions\n",
    "})\n",
    "\n",
    "# Combine and display the prediction results\n",
    "predictions_df = pd.concat([jan_2021_predictions_df, feb_2021_predictions_df])\n",
    "print(predictions_df)"
   ]
  },
  {
   "cell_type": "code",
   "execution_count": 46,
   "metadata": {
    "execution": {
     "iopub.execute_input": "2024-04-13T15:55:39.932981Z",
     "iopub.status.busy": "2024-04-13T15:55:39.932265Z",
     "iopub.status.idle": "2024-04-13T15:55:39.939596Z",
     "shell.execute_reply": "2024-04-13T15:55:39.938741Z",
     "shell.execute_reply.started": "2024-04-13T15:55:39.932924Z"
    }
   },
   "outputs": [
    {
     "data": {
      "text/plain": [
       "<DatetimeArray>\n",
       "['2021-01-01 00:00:00', '2021-02-01 00:00:00']\n",
       "Length: 2, dtype: datetime64[s]"
      ]
     },
     "execution_count": 46,
     "metadata": {},
     "output_type": "execute_result"
    }
   ],
   "source": [
    "predictions_df.Month.unique()"
   ]
  },
  {
   "cell_type": "code",
   "execution_count": 47,
   "metadata": {
    "execution": {
     "iopub.execute_input": "2024-04-13T15:55:39.940747Z",
     "iopub.status.busy": "2024-04-13T15:55:39.940507Z",
     "iopub.status.idle": "2024-04-13T15:55:42.439389Z",
     "shell.execute_reply": "2024-04-13T15:55:42.438385Z",
     "shell.execute_reply.started": "2024-04-13T15:55:39.940726Z"
    }
   },
   "outputs": [],
   "source": [
    "# Write the DataFrame to an Excel file\n",
    "predictions_df.to_excel('forecasts.xlsx', index=False)"
   ]
  }
 ],
 "metadata": {
  "kaggle": {
   "accelerator": "gpu",
   "dataSources": [
    {
     "datasetId": 4787061,
     "sourceId": 8105264,
     "sourceType": "datasetVersion"
    }
   ],
   "dockerImageVersionId": 30683,
   "isGpuEnabled": true,
   "isInternetEnabled": true,
   "language": "python",
   "sourceType": "notebook"
  },
  "kernelspec": {
   "display_name": "Python 3 (ipykernel)",
   "language": "python",
   "name": "python3"
  },
  "language_info": {
   "codemirror_mode": {
    "name": "ipython",
    "version": 3
   },
   "file_extension": ".py",
   "mimetype": "text/x-python",
   "name": "python",
   "nbconvert_exporter": "python",
   "pygments_lexer": "ipython3",
   "version": "3.9.12"
  }
 },
 "nbformat": 4,
 "nbformat_minor": 4
}
